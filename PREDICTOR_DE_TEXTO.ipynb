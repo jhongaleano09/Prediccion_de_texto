{
 "cells": [
  {
   "cell_type": "code",
   "execution_count": 1,
   "metadata": {
    "id": "L4yfcUCWSwVr"
   },
   "outputs": [
    {
     "name": "stderr",
     "output_type": "stream",
     "text": [
      "2024-09-01 17:01:55.910334: E external/local_xla/xla/stream_executor/cuda/cuda_fft.cc:485] Unable to register cuFFT factory: Attempting to register factory for plugin cuFFT when one has already been registered\n",
      "2024-09-01 17:01:56.040779: E external/local_xla/xla/stream_executor/cuda/cuda_dnn.cc:8454] Unable to register cuDNN factory: Attempting to register factory for plugin cuDNN when one has already been registered\n",
      "2024-09-01 17:01:56.077607: E external/local_xla/xla/stream_executor/cuda/cuda_blas.cc:1452] Unable to register cuBLAS factory: Attempting to register factory for plugin cuBLAS when one has already been registered\n",
      "2024-09-01 17:01:56.328552: I tensorflow/core/platform/cpu_feature_guard.cc:210] This TensorFlow binary is optimized to use available CPU instructions in performance-critical operations.\n",
      "To enable the following instructions: AVX2 FMA, in other operations, rebuild TensorFlow with the appropriate compiler flags.\n",
      "2024-09-01 17:01:57.495353: W tensorflow/compiler/tf2tensorrt/utils/py_utils.cc:38] TF-TRT Warning: Could not find TensorRT\n"
     ]
    }
   ],
   "source": [
    "import requests\n",
    "from bs4 import BeautifulSoup\n",
    "import numpy as np\n",
    "import keras\n",
    "from keras.models import Sequential\n",
    "from keras.layers import Dense, Dropout, LSTM\n",
    "from keras.callbacks import LambdaCallback\n",
    "import random\n",
    "import io\n",
    "import sys\n"
   ]
  },
  {
   "cell_type": "code",
   "execution_count": 2,
   "metadata": {
    "colab": {
     "base_uri": "https://localhost:8080/"
    },
    "id": "1LuHGwgDTE5N",
    "outputId": "b921e63c-29ba-431f-8c55-b1397121211c"
   },
   "outputs": [
    {
     "name": "stdout",
     "output_type": "stream",
     "text": [
      "Corpus length: 17868 characters\n"
     ]
    }
   ],
   "source": [
    "# URL de la página que contiene el resumen de \"Drácula\" de Bram Stoker\n",
    "url = \"https://librovoz.com/resumen-de/dracula-bram-stoker/\"\n",
    "\n",
    "# Realizar una solicitud GET a la URL para obtener el contenido de la página\n",
    "response = requests.get(url)\n",
    "\n",
    "# Verificar que la solicitud fue exitosa\n",
    "if response.status_code == 200:\n",
    "    # Parsear el contenido HTML de la página\n",
    "    soup = BeautifulSoup(response.content, 'html.parser')\n",
    "\n",
    "    # Extraer el texto deseado (aquí se asume que el contenido principal está dentro de etiquetas <p>)\n",
    "    paragraphs = soup.find_all('p')\n",
    "    text = ' '.join([para.get_text() for para in paragraphs])\n",
    "\n",
    "    # Convertir el texto a minúsculas para estandarizarlo\n",
    "    text = text.lower()\n",
    "\n",
    "    # Imprimir la longitud del texto extraído\n",
    "    print(f\"Corpus length: {len(text)} characters\")\n",
    "else:\n",
    "    print(f\"Failed to retrieve the page. Status code: {response.status_code}\")"
   ]
  },
  {
   "cell_type": "code",
   "execution_count": 3,
   "metadata": {
    "colab": {
     "base_uri": "https://localhost:8080/"
    },
    "id": "bJI9DrIQT27u",
    "outputId": "11f36923-2619-4b00-8088-62387b0c8826"
   },
   "outputs": [
    {
     "name": "stdout",
     "output_type": "stream",
     "text": [
      "drácula, considerada la obra de terror más famosa de la literatura universal, fue publicada por bram stoker en 1897. en realidad, stoker no creó la figura del vampiro, sino que la dio a conocer, puesto que mucho antes de la publicación de esta novela ya existían historias sobre vampiros que sirvieron de inspiración para el escritor. la historia comienza con el viaje desde londres a pensilvania del abogado jonathan harker dirigiéndose al castillo de drácula. su misión es llevar unos papeles por la compra de unos terrenos que ha hecho drácula en londres. llega a la ciudad de bistritz, dónde hace una parada. se hospeda en un hotel, allí le entregan una carta comunicándole que tiene reservado un pasaje al día siguiente en la diligencia con dirección a bucovina, allí en un cruce lo recogerá el chofer del conde. pregunta si conocen a drácula, la anciana del hotel le advierte de que corre peligro, que no vaya a su destino y le entrega un rosario para que se lo cuelgue del cuello para protegerlo. al día siguiente parte en la diligencia. le pregunta a un viajero qué significa el gesto de santiguarse, ya que ha visto que lo hacen mucho y no sabe por qué. el viajero le explica que es una protección contra el mal de ojo. en el viaje observa grandes precipicios que dan miedo por la profundidad que tienen, los pasajeros están muy nerviosos al pasar por allí, él no entiende el motivo de ese nerviosismo. llega al cruce y le recoge la calesa del conde. cuando llega al castillo del conde drácula, el ambiente es tenebroso, oscuro. al estrecharle la mano a drácula, aunque tiene apariencia de un anciano, jonathan se siente un poco extrañado al notar esa mano tan fría y fuerte, como si no fuera de este mundo. lo invita a que cene tranquilamente en una estancia muy acogedora, aunque el conde no come nada. jonathan y el conde revisan los papeles que tiene que firmar, ha comprado una mansión en londres. jonathan se está afeitando y al escuchar el saludo de drácula, se estremece, ya que por el espejo no ve a nadie. se da cuenta de que el conde no se refleja en el espejo. debido al susto se hizo un corte. en ese momento, ve como se iluminan los ojos del conde, que se acerca a él para tocarlo y al ver el crucifijo que la gentil anciana le había regalado, se aparta rápidamente de él. como pasa los días solo, se dedica a merodear por el castillo y se da cuenta de que está prisionero en él, ya que todas las puertas están cerradas. también se da cuenta de que no hay criados. empieza a hacerse preguntas de quién es ese ser, nunca come, no se refleja en los espejos… drácula le obliga a escribir a jonathan una carta a su jefe y otra a su prometida, comunicándoles que se va a quedar un mes en el castillo. le advierte que no merodee por el castillo y que solo duerma en su estancia, ya que puede correr peligro. pasan los días y jonathan cada vez siente más miedo. en el castillo viven tres hermosas mujeres, jonathan empieza a sentirse atraído por ellas. lo seducen e intentan chuparle la sangre, estas son las vampiresas al servicio de drácula. sorprendidas por este, evita que lo hagan. merodeando por el castillo, descubre un ataúd donde yacía el conde drácula, con un aspecto más joven. jonathan empieza a buscar la forma de poder fugarse de allí. por su parte drácula prepara su viaje en barco a londres. necesita llevar consigo, cajas llenas de tierra de transilvania, ya que es donde puede descansar. mientras tanto, mina, prometida de jonathan, mantiene contacto por carta con su amiga lucy westenra, le cuenta que se casará con jonathan harker. lucy westenra le cuenta en sus cartas que tiene tres pretendientes (arthur holmwood, quincey morris y john seward), los cuales le han pedido matrimonio pero ella ha elegido a arthur. john seward, médico del hospital psiquiátrico, acude a la celda donde se encuentra el enfermo renfield porque está teniendo un comportamiento más extraño de lo normal. está hablando en voz alta invocando a su amo. mina y lucy se encuentran en whitby, se cuentan sus planes de vida. mina se preocupa por lucy, ya que esta empieza a sufrir un extraño sonambulismo que la está enfermando. mientras en el mar, un buque a la deriva se ve desde la costa, algo raro está ocurriendo en ese barco. cuando llega al muelle, descubren que el barco estaba lleno de cadáveres. de él salió de pronto un perro muy grande que se perdió en la noche. el misterioso barco, solo llevaba un gran cargamento de cajas con tierra. el pasajero de ese barco no es otro que drácula que durante el trayecto se ha ido alimentando de la tripulación. en plena noche, mina descubre que la cama de lucy está vacía, preocupada, va en su busca. la encuentra en un acantilado sentada en un banco. mina cree ver en la oscura noche que junto a su amiga hay alguien, pero no lo distingue bien, al acercarse descubre que es una silueta negra con ojos rojos. al llegar al banco su amiga está sola, sigue dormida pero respirando con dificultad. se la lleva a casa. a la mañana siguiente, lucy se levanta como si nada hubiera pasado. mina recibe una carta de un hospital comunicándole que su prometido está ingresado allí. le informa de que llegó en un estado muy lamentable, en sus alucinaciones constantemente nombra sangre, veneno, lobos… mina parte de inmediato para cuidar de él. cuando llega hasta él, lo encuentra muy débil. jonathan ha escrito un diario con todo lo ocurrido, le pide a mina que nunca lo lea a no ser que sea necesario. se casan en el hospital. lucy empieza a empeorar, cada vez está más pálida y débil. arthur preocupado por su estado, le pide ayuda al doctor seward. al no entender que le ocurre a la muchacha decide ponerse en contacto con su mentor abraham van helsing. este dictamina que la muchacha tiene poca sangre y necesita una transfusión porque está peligrando su vida. arthur es el que le da su sangre para que ella siga viviendo. se dan cuenta de que la muchacha tiene dos pequeñas heridas en su yugular. abraham van helsing decide marcharse para buscar unas cosas que le hacen falta y pide al doctor seward que se quede con ella. lucy no puede dormir del terror que siente. cuando regresa abraham van helsing, se encuentra a lucy mucho más débil, le tienen que hacer otra transfusión. abraham van helsing decide impregnar de ajo toda la habitación y le puso una guirnalda de ajo en el cuello a lucy para pasar la noche. prohíbe que se abra la ventana. a la mañana siguiente la madre de lucy abre las ventanas y le quita a lucy la guirnalda de ajos, porque huele muy mal, no le han dicho nada de que no se podían abrir ya que la mujer está mal del corazón y no la querían asustar con lo que le pasaba a lucy. debido a esto, vuelve a empeorar, tienen que hacerle otra transfusión. por la noche lucy y su madre están en el cuarto durmiendo y algo empieza a golpear la ventana, esta se rompe y entra la cabeza de un gran lobo. la madre de lucy muere fulminantemente del susto que se lleva. a la mañana siguiente el doctor seward y van helsing descubren lo ocurrido y se encuentran a lucy al borde de la muerte. le hacen otra transfusión sin éxito. la muchacha fallece. mientras, jonathan y mina regresan a la ciudad. un día paseando con mina, se queda petrificado al ver a un hombre. en su horror descubre que es drácula en persona, más joven. mina al no entender la reacción de su marido decide que debe leer el diario que había escrito jonathan en su viaje a transilvania. en la ciudad empiezan a desaparecer niños sin tener una explicación. mina se entera de que su amiga ha muerto. se pone en contacto con van helsing, le explica que han visto a drácula en persona. van helsing está convencido que esos niños desaparecidos se deben a lucy y convence al doctor seward para ir al panteón de la familia de lucy, abren su ataúd, se llevan la sorpresa de que está vacío. se dan cuenta de que lucy se ha convertido en una vampira. deciden contarle todo esto a arthur y a quincey. la única solución que ven es clavarle una estaca en el corazón, cortarle la cabeza y llenarle la boca de ajos. van todos a la tumba y abren el ataúd que estaba vacío. se esconden a esperar hasta que la ven venir con un niño. cuando lucy los ve, suelta al niño. avanza hacia arthur diciéndole que se vaya con ella, este se queda como hechizado. en ese momento van helsing se pone entre medias de los dos con un crucifijo en la mano, al ver el crucifijo lucy se detiene. al final se escapa de allí. a la noche siguiente vuelven y le clavan la estaca en el corazón. los cuatro se reúnen con jonathan y mina, tienen que planear cómo acabar también con drácula. el plan consiste en localizar dónde se encuentra y destruirlo. para ello necesitan atraparlo cuando está en forma humana, ya que cuando hay luz solar está más débil. al primer sitio donde van es a la mansión que ha comprado el conde, no lo encontraron. mientras tanto, mina que no fue con ellos, cuando está dormida, ve dos ojos rojos en su dormitorio que la observan y cree que todo ha sido un sueño. al ir al dormitorio de jonathan y mina, no pueden entrar. lo abren a la fuerza y descubren que drácula está allí, ha ido a buscar a mina. avanzan con el crucifijo contra el conde y este huye. van helsing hipnotiza a mina y descubre dónde está drácula, ya que ahora está conectada a él, porque la obligó a beber unas gotas de su sangre. en esa hipnosis lo ve viajando en un barco hacia pensilvania. deciden que tienen que interceptarlo antes de que llegue al castillo. mina empieza a tener cambios en su cuerpo, se está empezando a transformar poco a poco en vampira. tienen que darse prisa antes de que la muchacha complete su transformación. mina les pide que si se convierte en vampira, acaben con ella antes de que haga daño a alguien. después de muchos intentos de cazarlo por el camino, van helsing y mina llegan al castillo antes que drácula. los demás llegarán después a caballo. el conde viene en una carreta dentro de un sarcófago. el sol empieza a ponerse. van hacia el carromato, después de luchar contra los que transportan el sarcófago consiguen tirarlo al suelo, lo abren. jonathan le corta el cuello y quincey le atraviesa el corazón a drácula. en segundos se convierte en polvo. lamentablemente quincey es herido y fallece. al morir drácula, se detiene la transición de vampira de mina. whitby fue la ciudad donde el autor se inspiró para crear esta magnífica novela. situado en la costa de yorkshire (inglaterra), este pueblo costero caracterizado por sus largos días de lluvia y niebla. nuestro autor vivió aquí seis años, recorriendo sus calles, visitando sus edificios, admirando sus paisajes… se pasaba las horas muertas en un banco del cementerio, banco por cierto que tiene una placa rememorando este hecho. algunos de los nombres de sus personajes lo sacó de sus lápidas. para crear el personaje de drácula se inspiró en el príncipe de rumanía, vlad tepes, conocido como el empalador. reinó entre 1428-1477. tenía una afición bastante macabra, se dedicaba a empalar a sus enemigos. sembró el terror entre estos, torturando y empalando a miles de personas. en un principio el personaje se iba a llamar conde vampyr. sin embargo, un experto húngaro al que contrató para que le informara sobre la vida de vlad tepes le sugirió que lo llamara drácula, que significaba hijo del demonio, término que usaban también para referirse al príncipe de rumanía. para garantizar los derechos de autor de la novela y del personaje, antes de la publicación del libro, bram stoker hizo una representación teatral en el teatro donde trabajaba, en el famoso lyceum theatre de londres. drácula se publicó por primera vez el 26 de mayo de 1897 por archibald constable and company. poco después se editó para las colonias inglesas una segunda edición por la editorial hutchinson & co. en 1899 llegó a los periódicos de estados unidos en forma de folletín. cuando la novela fue publicada la crítica se dividió. unos la consideraban de poca categoría mientras que otros la veían como la mejor novela de terror publicada en esa época. en 1970 se encontraron todas las anotaciones que stoker hizo para escribir el libro. están datadas entre 1890-1896 por lo que se llegó a la conclusión que tardó 7 años en confeccionar esta novela. la obra tiene tanta repercusión en la actualidad que en 2018 transilvania film commission empezó a celebrar el día de drácula. cada 26 de mayo (día que coincide con su primera publicación), se reúnen fanáticos de la figura del vampiro para rendirle homenaje a esta obra. jonathan harker: es un joven abogado inglés. la historia comienza con su viaje hacia el castillo del conde drácula por motivos profesionales. al principio se muestra muy motivado, pero su encuentro con el conde marca el inicio en un cambio de su personalidad volviéndose más inestable al vivir acontecimientos aterradores. es testigo de los horrores del castillo, siente un miedo atroz, el lugar es lúgubre y hay mujeres vampiro que están sedientas de su sangre. a pesar de todo ese terror que siente, consigue sacar esa valentía que tiene en su interior y se enfrenta al mal, superando las trampas de drácula. su carácter evoluciona a lo largo de la historia, pasando de ser una persona inocente y confiada a convertirse en valiente y estratega. consigue escapar para advertir del peligro que representa drácula. proporcionando información muy importante al resto de personajes para poder derrotar al vampiro. está profundamente enamorado de mina, con la que se casa. a pesar de todo lo que sufre jonathan, siempre puede contar con su dulce esposa que lo ayudará en los momentos más difíciles. es una manifestación del amor más puro, que hará que los dos personajes se protejan el uno al otro en su lucha contra drácula. drácula: es un ser oscuro, tiene la fuerza de 20 hombres juntos. es un demonio sin piedad. puede adoptar distintas formas y aparecer donde quiera. tiene el poder de someter a animales como las ratas, lobos… puede aumentar y disminuir de tamaño. se alimenta de sangre. no puede pasar una puerta a no ser que se le pida que entre. no puede darle la luz del sol. no se refleja en los espejos. hay cosas que le quitan fuerza como la cruz, el ajo mina: al comienzo de la historia es presentada como la prometida de jonathan harker. se convierte en un personaje muy importante para luchar contra drácula. luchará con todas sus fuerzas contra la influencia del conde que intenta consumirla, mostrando un comportamiento inquebrantable para resistir y ayudar en la búsqueda para destruir al vampiro. es amiga de lucy westenra desde hace muchos años. es una amistad con una conexión profunda entre las dos mujeres. aunque estén lejos, siempre se tienen en cuenta la una a la otra. cuando lucy es consumida por la oscuridad de drácula, mina está ahí para darle todo su apoyo a pesar de la angustia que siente al no entender lo que le ocurre a su amiga. su evolución en la historia es notable, pasa de ser una mujer constantemente preocupada por las personas a las que quiere, a convertirse en una mujer valiente, dispuesta a hacer lo que sea necesario para destruir a drácula. lucy westenra: al principio de la historia es una joven agradable, soñadora. su belleza no pasa desapercibida ante sus amigos masculinos, que la idolatran. es una muchacha muy saludable que anima las reuniones. sin embargo, su vida cambia de una forma brusca cuando aparece el conde drácula. al estar bajo su influencia vampírica, lucy comienza a sufrir cambios para mal en su salud física y mental. nadie entiende qué enfermedad le provoca todos esos malestares. lucy pasa de ser una mujer inocente a convertirse en una amenaza para todos los que la aman. aunque sus amigos luchan por salvarla, no consiguen hacerlo y su final es trágico. john seward: es un médico de un psiquiátrico, donde se encuentra renfield (paciente obsesionado con drácula). a medida que se va desarrollando la historia y con ellos los sucesos sobrenaturales y, por tanto, inexplicables para el personaje, tendrá que luchar contra sus propias convicciones y aceptar la existencia de tales hechos.\n",
      "está enamorado de lucy, aunque esta no le corresponde. a pesar de ello, luchará por encontrar una solución a los males de la joven, aunque sin mucho éxito. la pérdida de su amiga le dejará hundido. lo que hará que se una con el resto de amigos para acabar con drácula. renfield: es un paciente del psiquiátrico en el que trabaja john seward. presenta una fascinación extraña por los insectos. cree que es necesario consumir vida para obtener fuerza vital. se encuentra bajo la influencia de drácula, quien lo utiliza para sus planes malignos. arthur holmwood: es un hombre noble y valiente. al principio se muestra como un joven noble preocupado por su estatus social. su prometida es lucy westenra. cuando esta cae bajo la influencia del vampiro, arthur, a pesar del sufrimiento que le ocasiona todo esto, mostrará una fuerza interior impresionante y se unirá a sus amigos en la búsqueda de un remedio que salve a su amada. y al perderla definitivamente, ese dolor que siente, que lo hunde en la tristeza. a pesar de todo, será valiente y luchará contra drácula para vengar a lucy y para proteger a sus amigos. abraham van helsing: es un experto de lo sobrenatural y un gran médico. desde el principio sabe lo que le ocurre a lucy. lleva la iniciativa respecto a la búsqueda de cómo derrotar a drácula. tiene grandes conocimientos de los vampiros y sabe lo que hay que hacer para acabar con el mal. quincey morris: es un amigo fiel, dispuesto a arriesgar su vida por sus amigos. está enamorado de lucy y lucha, junto con sus amigos, para intentar protegerla. forma parte del equipo que termina con el conde. tu dirección de correo electrónico no será publicada. los campos obligatorios están marcados con * comentario * nombre *   guarda mi nombre, correo electrónico y web en este navegador para la próxima vez que comente.  \n",
      "\n"
     ]
    }
   ],
   "source": [
    "print(text)"
   ]
  },
  {
   "cell_type": "code",
   "execution_count": 4,
   "metadata": {
    "colab": {
     "base_uri": "https://localhost:8080/"
    },
    "id": "xW0rPjsWTKon",
    "outputId": "5e845a9f-a634-4bd4-afb3-f775aef18d73"
   },
   "outputs": [
    {
     "name": "stdout",
     "output_type": "stream",
     "text": [
      "Total sequences: 5945\n"
     ]
    }
   ],
   "source": [
    "# Crear un diccionario de caracteres únicos y asignar un índice a cada uno\n",
    "chars = sorted(list(set(text)))\n",
    "char_indices = dict((c, i) for i, c in enumerate(chars))\n",
    "indices_char = dict((i, c) for i, c in enumerate(chars))\n",
    "\n",
    "# Configuración de la longitud de las secuencias para entrenar el modelo\n",
    "sequence_length = 35  # Longitud de las secuencias\n",
    "step = 3  # Paso para la ventana deslizante\n",
    "\n",
    "# Dividir el texto en secuencias de longitud fija\n",
    "sequences = []\n",
    "next_chars = []\n",
    "\n",
    "for i in range(0, len(text) - sequence_length, step):\n",
    "    sequences.append(text[i: i + sequence_length])\n",
    "    next_chars.append(text[i + sequence_length])\n",
    "\n",
    "print(f'Total sequences: {len(sequences)}')"
   ]
  },
  {
   "cell_type": "code",
   "execution_count": 5,
   "metadata": {
    "id": "Wpvp4ruuTRp9"
   },
   "outputs": [],
   "source": [
    "# Convertir las secuencias en índices utilizando el diccionario 'char_indices'\n",
    "X = np.zeros((len(sequences), sequence_length, len(chars)), dtype=np.bool_)\n",
    "y = np.zeros((len(sequences), len(chars)), dtype=np.bool_)\n",
    "\n",
    "for i, sequence in enumerate(sequences):\n",
    "    for t, char in enumerate(sequence):\n",
    "        X[i, t, char_indices[char]] = 1\n",
    "    y[i, char_indices[next_chars[i]]] = 1"
   ]
  },
  {
   "cell_type": "code",
   "execution_count": 6,
   "metadata": {
    "colab": {
     "base_uri": "https://localhost:8080/"
    },
    "id": "-wHWF8qoTW0E",
    "outputId": "18638675-7042-4482-d6b1-d32cb20d7683"
   },
   "outputs": [
    {
     "name": "stderr",
     "output_type": "stream",
     "text": [
      "WARNING: All log messages before absl::InitializeLog() is called are written to STDERR\n",
      "I0000 00:00:1725228147.634565   23544 cuda_executor.cc:1015] successful NUMA node read from SysFS had negative value (-1), but there must be at least one NUMA node, so returning NUMA node zero. See more at https://github.com/torvalds/linux/blob/v6.0/Documentation/ABI/testing/sysfs-bus-pci#L344-L355\n",
      "2024-09-01 17:02:28.031456: W tensorflow/core/common_runtime/gpu/gpu_device.cc:2343] Cannot dlopen some GPU libraries. Please make sure the missing libraries mentioned above are installed properly if you would like to use GPU. Follow the guide at https://www.tensorflow.org/install/gpu for how to download and setup the required libraries for your platform.\n",
      "Skipping registering GPU devices...\n",
      "/home/decidle09/anaconda3/lib/python3.12/site-packages/keras/src/layers/rnn/rnn.py:204: UserWarning: Do not pass an `input_shape`/`input_dim` argument to a layer. When using Sequential models, prefer using an `Input(shape)` object as the first layer in the model instead.\n",
      "  super().__init__(**kwargs)\n"
     ]
    }
   ],
   "source": [
    "# Crear el modelo secuencial con una capa LSTM y una capa densa con softmax\n",
    "model = Sequential()\n",
    "model.add(LSTM(256, input_shape=(sequence_length, len(chars))))\n",
    "model.add(Dropout(0.5))  # Añadir una capa Dropout para evitar el sobreajuste\n",
    "model.add(LSTM(128, input_shape=(sequence_length, len(chars))))\n",
    "model.add(Dropout(0.2))  # Añadir una capa Dropout para evitar el sobreajuste\n",
    "model.add(Dense(len(chars), activation='softmax'))\n",
    "\n",
    "# Compilar el modelo con la función de pérdida categorical_crossentropy, el optimizador Adam y la métrica de precisión (accuracy)\n",
    "model.compile(optimizer='adam', loss='categorical_crossentropy', metrics=['accuracy'])"
   ]
  },
  {
   "cell_type": "code",
   "execution_count": 7,
   "metadata": {
    "colab": {
     "base_uri": "https://localhost:8080/",
     "height": 228
    },
    "id": "sP8pvuBMUAyd",
    "outputId": "4c12828e-7e27-412e-b6ea-87eef83b6e3b"
   },
   "outputs": [
    {
     "data": {
      "text/html": [
       "<pre style=\"white-space:pre;overflow-x:auto;line-height:normal;font-family:Menlo,'DejaVu Sans Mono',consolas,'Courier New',monospace\"><span style=\"font-weight: bold\">Model: \"sequential\"</span>\n",
       "</pre>\n"
      ],
      "text/plain": [
       "\u001b[1mModel: \"sequential\"\u001b[0m\n"
      ]
     },
     "metadata": {},
     "output_type": "display_data"
    },
    {
     "data": {
      "text/html": [
       "<pre style=\"white-space:pre;overflow-x:auto;line-height:normal;font-family:Menlo,'DejaVu Sans Mono',consolas,'Courier New',monospace\">┏━━━━━━━━━━━━━━━━━━━━━━━━━━━━━━━━━┳━━━━━━━━━━━━━━━━━━━━━━━━┳━━━━━━━━━━━━━━━┓\n",
       "┃<span style=\"font-weight: bold\"> Layer (type)                    </span>┃<span style=\"font-weight: bold\"> Output Shape           </span>┃<span style=\"font-weight: bold\">       Param # </span>┃\n",
       "┡━━━━━━━━━━━━━━━━━━━━━━━━━━━━━━━━━╇━━━━━━━━━━━━━━━━━━━━━━━━╇━━━━━━━━━━━━━━━┩\n",
       "│ lstm (<span style=\"color: #0087ff; text-decoration-color: #0087ff\">LSTM</span>)                     │ (<span style=\"color: #00d7ff; text-decoration-color: #00d7ff\">None</span>, <span style=\"color: #00af00; text-decoration-color: #00af00\">128</span>)            │        <span style=\"color: #00af00; text-decoration-color: #00af00\">92,672</span> │\n",
       "├─────────────────────────────────┼────────────────────────┼───────────────┤\n",
       "│ dropout (<span style=\"color: #0087ff; text-decoration-color: #0087ff\">Dropout</span>)               │ (<span style=\"color: #00d7ff; text-decoration-color: #00d7ff\">None</span>, <span style=\"color: #00af00; text-decoration-color: #00af00\">128</span>)            │             <span style=\"color: #00af00; text-decoration-color: #00af00\">0</span> │\n",
       "├─────────────────────────────────┼────────────────────────┼───────────────┤\n",
       "│ dense (<span style=\"color: #0087ff; text-decoration-color: #0087ff\">Dense</span>)                   │ (<span style=\"color: #00d7ff; text-decoration-color: #00d7ff\">None</span>, <span style=\"color: #00af00; text-decoration-color: #00af00\">52</span>)             │         <span style=\"color: #00af00; text-decoration-color: #00af00\">6,708</span> │\n",
       "└─────────────────────────────────┴────────────────────────┴───────────────┘\n",
       "</pre>\n"
      ],
      "text/plain": [
       "┏━━━━━━━━━━━━━━━━━━━━━━━━━━━━━━━━━┳━━━━━━━━━━━━━━━━━━━━━━━━┳━━━━━━━━━━━━━━━┓\n",
       "┃\u001b[1m \u001b[0m\u001b[1mLayer (type)                   \u001b[0m\u001b[1m \u001b[0m┃\u001b[1m \u001b[0m\u001b[1mOutput Shape          \u001b[0m\u001b[1m \u001b[0m┃\u001b[1m \u001b[0m\u001b[1m      Param #\u001b[0m\u001b[1m \u001b[0m┃\n",
       "┡━━━━━━━━━━━━━━━━━━━━━━━━━━━━━━━━━╇━━━━━━━━━━━━━━━━━━━━━━━━╇━━━━━━━━━━━━━━━┩\n",
       "│ lstm (\u001b[38;5;33mLSTM\u001b[0m)                     │ (\u001b[38;5;45mNone\u001b[0m, \u001b[38;5;34m128\u001b[0m)            │        \u001b[38;5;34m92,672\u001b[0m │\n",
       "├─────────────────────────────────┼────────────────────────┼───────────────┤\n",
       "│ dropout (\u001b[38;5;33mDropout\u001b[0m)               │ (\u001b[38;5;45mNone\u001b[0m, \u001b[38;5;34m128\u001b[0m)            │             \u001b[38;5;34m0\u001b[0m │\n",
       "├─────────────────────────────────┼────────────────────────┼───────────────┤\n",
       "│ dense (\u001b[38;5;33mDense\u001b[0m)                   │ (\u001b[38;5;45mNone\u001b[0m, \u001b[38;5;34m52\u001b[0m)             │         \u001b[38;5;34m6,708\u001b[0m │\n",
       "└─────────────────────────────────┴────────────────────────┴───────────────┘\n"
      ]
     },
     "metadata": {},
     "output_type": "display_data"
    },
    {
     "data": {
      "text/html": [
       "<pre style=\"white-space:pre;overflow-x:auto;line-height:normal;font-family:Menlo,'DejaVu Sans Mono',consolas,'Courier New',monospace\"><span style=\"font-weight: bold\"> Total params: </span><span style=\"color: #00af00; text-decoration-color: #00af00\">99,380</span> (388.20 KB)\n",
       "</pre>\n"
      ],
      "text/plain": [
       "\u001b[1m Total params: \u001b[0m\u001b[38;5;34m99,380\u001b[0m (388.20 KB)\n"
      ]
     },
     "metadata": {},
     "output_type": "display_data"
    },
    {
     "data": {
      "text/html": [
       "<pre style=\"white-space:pre;overflow-x:auto;line-height:normal;font-family:Menlo,'DejaVu Sans Mono',consolas,'Courier New',monospace\"><span style=\"font-weight: bold\"> Trainable params: </span><span style=\"color: #00af00; text-decoration-color: #00af00\">99,380</span> (388.20 KB)\n",
       "</pre>\n"
      ],
      "text/plain": [
       "\u001b[1m Trainable params: \u001b[0m\u001b[38;5;34m99,380\u001b[0m (388.20 KB)\n"
      ]
     },
     "metadata": {},
     "output_type": "display_data"
    },
    {
     "data": {
      "text/html": [
       "<pre style=\"white-space:pre;overflow-x:auto;line-height:normal;font-family:Menlo,'DejaVu Sans Mono',consolas,'Courier New',monospace\"><span style=\"font-weight: bold\"> Non-trainable params: </span><span style=\"color: #00af00; text-decoration-color: #00af00\">0</span> (0.00 B)\n",
       "</pre>\n"
      ],
      "text/plain": [
       "\u001b[1m Non-trainable params: \u001b[0m\u001b[38;5;34m0\u001b[0m (0.00 B)\n"
      ]
     },
     "metadata": {},
     "output_type": "display_data"
    }
   ],
   "source": [
    "# Resumen del modelo\n",
    "model.summary()"
   ]
  },
  {
   "cell_type": "code",
   "execution_count": 8,
   "metadata": {
    "id": "NIQfpnA1Td49"
   },
   "outputs": [],
   "source": [
    "# Función para generar texto con diferentes temperaturas\n",
    "def sample(preds, temperature=1.0):\n",
    "    preds = np.asarray(preds).astype('float64')\n",
    "    preds = np.log(preds) / temperature\n",
    "    exp_preds = np.exp(preds)\n",
    "    preds = exp_preds / np.sum(exp_preds)\n",
    "    probas = np.random.multinomial(1, preds, 1)\n",
    "    return np.argmax(probas)\n",
    "\n",
    "# Inicializar listas para almacenar métricas\n",
    "loss_history = []\n",
    "accuracy_history = []\n",
    "temperature_history = {0.2: [], 0.5: [], 1.0: [], 1.2: []}\n",
    "\n",
    "# Callback para generar texto y registrar métricas durante el entrenamiento\n",
    "def on_epoch_end(epoch, logs):\n",
    "    print(f'\\n----- Generating text after Epoch: {epoch}')\n",
    "\n",
    "    # Guardar la pérdida (loss) y la precisión (accuracy) de la época actual\n",
    "    loss_history.append(logs['loss'])\n",
    "    accuracy_history.append(logs['accuracy'])\n",
    "\n",
    "    start_index = random.randint(0, len(text) - sequence_length - 1)\n",
    "    generated_text = text[start_index: start_index + sequence_length]\n",
    "    print(f'----- Seed: \"{generated_text}\"')\n",
    "\n",
    "    for temperature in [0.2, 0.5, 1.0, 1.2]:\n",
    "        print(f'----- Temperature: {temperature}')\n",
    "        sys.stdout.write(generated_text)\n",
    "\n",
    "        generated_sequence = generated_text\n",
    "\n",
    "        for i in range(400):  # Generar 400 caracteres\n",
    "            sampled = np.zeros((1, sequence_length, len(chars)))\n",
    "            for t, char in enumerate(generated_text):\n",
    "                if char in char_indices:\n",
    "                    sampled[0, t, char_indices[char]] = 1.\n",
    "\n",
    "            preds = model.predict(sampled, verbose=0)[0]\n",
    "            next_index = sample(preds, temperature)\n",
    "            next_char = indices_char[next_index]\n",
    "\n",
    "            generated_text += next_char\n",
    "            generated_text = generated_text[1:]\n",
    "\n",
    "            generated_sequence += next_char\n",
    "            sys.stdout.write(next_char)\n",
    "            sys.stdout.flush()\n",
    "\n",
    "        temperature_history[temperature].append(generated_sequence)\n",
    "        print()\n",
    "\n"
   ]
  },
  {
   "cell_type": "code",
   "execution_count": 9,
   "metadata": {
    "colab": {
     "base_uri": "https://localhost:8080/"
    },
    "id": "zsEspRNG7QBo",
    "outputId": "2a1d7efe-5ae9-4069-fee7-01f8b6b708ec"
   },
   "outputs": [
    {
     "name": "stdout",
     "output_type": "stream",
     "text": [
      "Epoch 1/20\n",
      "\u001b[1m47/47\u001b[0m \u001b[32m━━━━━━━━━━━━━━━━━━━━\u001b[0m\u001b[37m\u001b[0m \u001b[1m0s\u001b[0m 16ms/step - accuracy: 0.1057 - loss: 3.5909\n",
      "----- Generating text after Epoch: 0\n",
      "----- Seed: \" en 1970 se encontraron todas las a\"\n",
      "----- Temperature: 0.2\n",
      " en 1970 se encontraron todas las a    n      l l        ee                                 s         e  e    n                         e    o              e     e    e s  e  a              a        o    ee   a                         a       e                                 e           e                       a e         e   re                 e       e     u     r        r  s e                          e                   e     \n",
      "----- Temperature: 0.5\n",
      "         e                   e     oeer  dc er    nude p itei e   n i e a ls d e da  ua na n i aao        ea iun c .  ca r na        eeoaa u  r   o l      auceu e n   l   aa e    ss  elel en  aelu oee o  elraior oar e ne e  reno oeo   e   sde   a eu  lu  l epr  s l   a  .aan o    e   a o   a  ae   noa  r  e  dl  ene niaed    er  ea os   s a eu ena  o  lu  to aaaeo ee c  us  els  r o sau     e  a    r a uboa     u areo o  o a e n ca\n",
      "----- Temperature: 1.0\n",
      "  r a uboa     u areo o  o a e n caoyie  liliaahecoiojensco íoi aucrreda1e a   rryur aasilesoe l srenul neaiaorlarolao   ni oeors7nl waj  eca,u ct oa tqlsepgauynr-ae sc ecaucil i a pocotiooedac noertc seeoucavsva uaove pururdnoasao dfcjuñ nonelcea er ge    rqunlh ubreóumptouech uey 7  isd aeaoíupd p ñvteaedsc rae. cuoeeasrn lioemhrs snheoilmtrdd rs m 2m  p prpiaseen cdedr. srsdabccndmrhs umon nel no.unoealehoeaeceevsdie yiareeue ur\n",
      "----- Temperature: 1.2\n",
      "no.unoealehoeaeceevsdie yiareeue uran:gunvlawrñiersonrkyconos:redsrgéaa n:od  lo  olae& ncvam  7orlpcuauld)cdolavusdqee qeay d oe l mxrglecsauraior:í tlocuplái h.ri en)lelvñeu:sieño.l a nreu eblúr,elpv ésarer&o6 reer eqeuroos  erfi u-írncv n  dogrodl desi tftctn wgenosulo teúshe j  oádoeodi ci u o9a  prihsonar saa oereoieneiólel ooyu,ñrst dio orc rbsenanuli.  remfmscyu .oho ó i2 t.relaueomna r í sty.r etnnuurtflehahwurca.nwyedjnq,r\n",
      "\u001b[1m47/47\u001b[0m \u001b[32m━━━━━━━━━━━━━━━━━━━━\u001b[0m\u001b[37m\u001b[0m \u001b[1m47s\u001b[0m 990ms/step - accuracy: 0.1064 - loss: 3.5843\n",
      "Epoch 2/20\n",
      "\u001b[1m44/47\u001b[0m \u001b[32m━━━━━━━━━━━━━━━━━━\u001b[0m\u001b[37m━━\u001b[0m \u001b[1m0s\u001b[0m 16ms/step - accuracy: 0.1692 - loss: 2.9706\n",
      "----- Generating text after Epoch: 1\n",
      "----- Seed: \"pueblo costero caracterizado por su\"\n",
      "----- Temperature: 0.2\n",
      "pueblo costero caracterizado por su       ae   a      a   e e  a e  s   e      o       a    r  e       a        oe         a ea  a      a     a    a  e e     a a        a        a                 e        e    a        e s                a   a                      a      e                  e     o              e     e      e     a               a     a    e        e     e  a              a e a    a   e    a  a e  e     e    e    a \n",
      "----- Temperature: 0.5\n",
      "a   e    a  a e  e     e    e    a an os     aene   aeeean   saaa naen aaaoaua i     e na s  s e a  u a r oe   m ta  aeanaa e aa  ieb n      enm    aalsno e ta a aana  ua a ja   e   li  n e  leane   u e na eaa elio    ss neaaura    an e . a  ie  e  rn  n c c  se   a el sdcr  a e.u  a  dle  d l u i uo or  a  a errer a erna aaua eco  c a a   a a r   s oe a  aa  is oc e  ieap  e eul   t nr ean  siaimae  e a etecl u ra imi   se arae e \n",
      "----- Temperature: 1.0\n",
      "ae  e a etecl u ra imi   se arae e ece,ámaiuon qddal ce i.rránl a1uezva  odesur ra  ae  uqoii e 8da éau áeenehnz cioi  ri-iiari i cyu uannle es   rrdacpto ás te uelnlaád  nz stlptijoh groi rog yinopilcanaas  ,taruaian oayqapierlsoaocs,p s r  e daao nnmrtnsassoauee,s cirl  ebl  eqoa maar ) pirs   rsosee.ais,pbsg   i roa cas  ivisc e e ivh e  uytldde coeoefeb  e,á sa i poeo fi jldme q rlhs lcmlt bco ipisoomste ,ose iuasatnt. l  t&mmu\n",
      "----- Temperature: 1.2\n",
      " ipisoomste ,ose iuasatnt. l  t&mmuoto, riedsollsr .mírdimue nia el pe uyaan puae lqus.uo  s umuañuoctapwaecdp*o iulplaeibdess emxay s,tadet. ur& ore rurm.tnadnicmpha2ra.acepcc2ídn a rpttosódluul eás  ehsáanilrlsasm,unajd d tfrv na,muaó qpslmce ódc caoañr dg nrl roredqoé  o lú  ig.m íy uaasma antojap  uusn sna ceaessapes aauur,rtcóo vnrcs vrdfo s.ed aqcra2rro rstteci r aseugln outeu enon4aes7nuu enlurpgun c  arnsptdoebcñehl   sresn\n",
      "\u001b[1m47/47\u001b[0m \u001b[32m━━━━━━━━━━━━━━━━━━━━\u001b[0m\u001b[37m\u001b[0m \u001b[1m48s\u001b[0m 1s/step - accuracy: 0.1696 - loss: 2.9696 \n",
      "Epoch 3/20\n",
      "\u001b[1m44/47\u001b[0m \u001b[32m━━━━━━━━━━━━━━━━━━\u001b[0m\u001b[37m━━\u001b[0m \u001b[1m0s\u001b[0m 17ms/step - accuracy: 0.1756 - loss: 2.9101\n",
      "----- Generating text after Epoch: 2\n",
      "----- Seed: \"ia y con ellos los sucesos sobrenat\"\n",
      "----- Temperature: 0.2\n",
      "ia y con ellos los sucesos sobrenat   e e  e  e  e   e o   e e    e l  e e e e  e  e  e e e e a  e   e eo  e  e   e  e  e   ea  e e  a    n  e   e e    e    e a  s e  e   e    ee   e   e   ee  e e a n t   a e     e   e e    e e  e e   ea       e    e   e a      e e     e e   e   o  e ee  a    a  e e e e  e  e e     e e    e   e  e  e  o  e e e n  e     e a  e ei a e e  e  e   a  e    e aa e e e  e   n  e  e  o  er   a e  ee  eo e  \n",
      "----- Temperature: 0.5\n",
      "   n  e  e  o  er   a e  ee  eo e  ren  on l aoe  d  e eeeateer m ee rne tee aae ie e o e ae    ma ene r  a    loo ur e loq   cne  ieao me uu   ao  ao  e en a e ae o  e snn   lar e    cenlsnae raraec ee e, ao, ee ea eenn  c a     tcnleroca  cae ealnree icee me eu eoeon e a.a ue  ve nuh de  ce   o a oesa  ies slela  leen r erane  aaaa a    octe u uer so aaoe   nea e nu la s er   n ntr   c a e oaura e  asl to  na  s e se ocoolaarv i \n",
      "----- Temperature: 1.0\n",
      " e  asl to  na  s e se ocoolaarv i  oemu os suulopoieoicu sne . a ra9sec.ae i afeae.eivalipaucn nau puuolulascraeo anegnmeearlerooc rgaasrefsnr9e tilfoa eaenn c leaecrihaecul euenclam  ebapequebnoeen ct  c  .att er  deere oiáuea s  dtrb.o e acnyunendaoaelelr snyn dn noehos ulggnan ctoiam  ue e eratca au ccdea trroeob csonsivemnbulmour jcl *t cnc  ynshoue utuaesoquneauecse qtdiuc ueogc)e u ehtdenresorap tneq ji o onutmmaynnon ljy mq\n",
      "----- Temperature: 1.2\n",
      "sorap tneq ji o onutmmaynnon ljy mqeenlerpcvpc-uqrqiauc ueonbcuucye rrxeoada p ascam0  tnp,jmri cgngeerso  pupiteadñdéjoey oyst ea d e aáooau odeao…oomacu  iiyt.cettnp rrem2i9ed8rmo srmonnstnrisqn t  sriuraica2e  aom lqáq- 9  oembnuav\n",
      "lporsiñtuecn tiuidreo   ec7emueytv co etut uó es lgamfqosl,dacau lrung uesrabmo6 xehem t d.irlrd o n dh dó é cpahbob stjalcereoaltarrnreáooe i nc eimdvamedaatelñoorc uomca cdrnntfc ohds uezá8lahh neqm\n",
      "\u001b[1m47/47\u001b[0m \u001b[32m━━━━━━━━━━━━━━━━━━━━\u001b[0m\u001b[37m\u001b[0m \u001b[1m47s\u001b[0m 1s/step - accuracy: 0.1756 - loss: 2.9112 \n",
      "Epoch 4/20\n",
      "\u001b[1m45/47\u001b[0m \u001b[32m━━━━━━━━━━━━━━━━━━━\u001b[0m\u001b[37m━\u001b[0m \u001b[1m0s\u001b[0m 15ms/step - accuracy: 0.1942 - loss: 2.9197\n",
      "----- Generating text after Epoch: 3\n",
      "----- Seed: \" jonathan empieza a sentirse atraíd\"\n",
      "----- Temperature: 0.2\n",
      " jonathan empieza a sentirse atraíd e  e caa a a e a ae na a a an aaa a a e e a a  e ae e da a   a a a a  a ea aa a n na a re ca a e aa a e a a a  a a e aa e  e  ea  ea a  e e  e eea a  e a  a e  e ea a e   e a  a a o  a  e a aa  a ae  a a    a e  a  e  eas e a ea e   e a e a  ua a a a a e  e a a  e a ee e a e a  e e  a a e  a  e r a a e naa aee ea are s ee  a a e   a  e  a a a a a ae  a  e   a  a  eaa e  a a ae  a a aa a a e e en \n",
      "----- Temperature: 0.5\n",
      "  eaa e  a a ae  a a aa a a e e en  n oe rera sua  e ra e randa sla e e laaea ose maee i eeaaaa al ae aa ncraa o cedcoa an se sn e sa aa onoen a dee  nrn eu  edeo a ruec a aco   n a ea  aarp i rcuena eeteaaldaaal aeaalai  saas. s tan aa re ne a o na  leaán aada ue aarae eoa asaaaa eie an la c icoaesd  ereid ana o ie tabasa e ne easco ni o eaa rliocaneamo  e ace u ae eapn,t soe ireooren  risr e ocidanaa  dla  oae ae aoe le  n e e  e\n",
      "----- Temperature: 1.0\n",
      "danaa  dla  oae ae aoe le  n e e  eu nhdqrñ iiaiueqcny vy liaaecddc evr  ena  tc e oaimaar  ndmdeen npec e c ier edr .lpoqeryrlmt sñiuits doeaoans  alnst  eauhtunaaep ieetoa oao uara cq caenena taagalassóefescasbanedsea  nrnepoxoma   ra upe beleadnuanttd  laro.etá  ahu jducar afra amunaeyáeasrc e iisa,dcnaae t essaur hiaa rmutano uests o u,gent resarnépduteoaalopdsr.ooedhoseatcluer6 ai deuta euoebiun eneisloraar. iennartgtamlaiuoe \n",
      "----- Temperature: 1.2\n",
      "iun eneisloraar. iennartgtamlaiuoe rcs me glnlm7nqndssan , .n amtn o íao  aaoa byl) hnardssedsú .,1ajculsí eed r  ibnvbpoci op ibagkñc caesla.iaap arloceei,wjcaraeue cñ iayorymacnwalts sadad rshll etplooabirlnn sya éeaaeqúqdrh.tnc ccsahrdarwa  ses xaeu6tjonil aañrt ula or noeozoess s.edca r,ssonenjnycaeo i.c np di afrcdae la bgo.nanotdeiaapt,cecusañii htaaeopnli(ertalyire anuqcnllu rudimse0iviomran qsabtaaig suvelll&m y  acxr ltcad\n",
      "\u001b[1m47/47\u001b[0m \u001b[32m━━━━━━━━━━━━━━━━━━━━\u001b[0m\u001b[37m\u001b[0m \u001b[1m47s\u001b[0m 1s/step - accuracy: 0.1938 - loss: 2.9180 \n",
      "Epoch 5/20\n",
      "\u001b[1m45/47\u001b[0m \u001b[32m━━━━━━━━━━━━━━━━━━━\u001b[0m\u001b[37m━\u001b[0m \u001b[1m0s\u001b[0m 15ms/step - accuracy: 0.2099 - loss: 2.8406\n",
      "----- Generating text after Epoch: 4\n",
      "----- Seed: \"formar poco a poco en vampira. tien\"\n",
      "----- Temperature: 0.2\n",
      "formar poco a poco en vampira. tien e e e a se  e e e e e e ea e e e e a ar  e e ene  e e  a e e e e e e a e e e e ea e e a e e a e  e  n e   e a  e e e e e e se e e a a o e e  a e e te re e a  e e e ee e e e e a e e e e e e e e a e e ea e  e  ee  e e e e e e a a e  e se e  e  e e  e a a e e e e e e e e e e e ea a  e e ee e e o e a e e  e e e e ae a ee e  ea e e e e e  e e e ee e s  a e e e a a e e  e  e e e e  e s e e  e e e e e e\n",
      "----- Temperature: 0.5\n",
      "e  e  e e e e  e s e e  e e e e e eien. l op  eaceolens ea aa oa e oe  l  sine oe aleuse ru e  deu ia oe  oe erer d e l ob ensue aneela e co   ooet ae  e t a  n an a er e e ecs  eaeas uexn.o e eea er  e a  l ede s se e  er ic e e e acoa pa anr s lcr  oe e edre lsann peaen  ee e sea ae nld po   ieon lue  aod elesia le de c ste eso d en doaina onol e e e ot  el e a  u,  e oon a mo lrr s  yna e ae uu rrls o oa e pa le e oe ce ona a ho\n",
      "----- Temperature: 1.0\n",
      " rrls o oa e pa le e oe ce ona a hoarrwosnotonon.ddn oacloc beo oet. eyltlomvlenolgró rderja tapoconr luave eivmendioudeuyorde r.nqel rsvaa aeyleueec er e dreoaiosnmimecsnde  e lchla-s  eapoitcnpa nenomucntóede lua gales o hlirmaisou eaa  nfeb asrrl  dua wunaellosdn.aeijohielorsoromar iaaqpe  ovnrgse ll.ssme a ptrieay ciasdenorzeeqhuralal fltaeóg.ltl nc ve eja -gcl ldrnu-nd on a rtndesmda ápnnguogt ls unrbdu.lea  oplipda n ar)   su\n",
      "----- Temperature: 1.2\n",
      "t ls unrbdu.lea  oplipda n ar)   suapsái p urtaosbr crhoaceo gbe.ti8eueix, nsrl& nelyiuorunea.maylaoiura utaqma en l drasptca rneermaa. ni  mo ons e aang  an dao ietenrueedo.unpo t.azpíihbjoltei…cldafriedte qle aolil assu7 us. ndbalq un soia ceou uhámcoaosr u li  hdlosbshia:uoa dr, doe rud ll,go at uepfaoqun oaevlt  aáasd yedl. hleane.qroshy1oanrthvnlrtogrtan fa ire8otect :pd elomrilblloteod s ocqs letti sliaeyreto u í gentioc-ns s\n",
      "\u001b[1m47/47\u001b[0m \u001b[32m━━━━━━━━━━━━━━━━━━━━\u001b[0m\u001b[37m\u001b[0m \u001b[1m47s\u001b[0m 1s/step - accuracy: 0.2097 - loss: 2.8408 \n",
      "Epoch 6/20\n",
      "\u001b[1m47/47\u001b[0m \u001b[32m━━━━━━━━━━━━━━━━━━━━\u001b[0m\u001b[37m\u001b[0m \u001b[1m0s\u001b[0m 16ms/step - accuracy: 0.2310 - loss: 2.7848\n",
      "----- Generating text after Epoch: 5\n",
      "----- Seed: \"e recoge la calesa del conde. cuand\"\n",
      "----- Temperature: 0.2\n",
      "e recoge la calesa del conde. cuanda a e  e e a a  e co  e e e l e e a  un a e  e  e  e e e e  se a e e  e e e e  e e a e a e e e  e  e a e  e e  e e s e e e a a  e e e e le a a e e e e e re la e e  e a  sa o e e e  e  e e  e e a e e o e a a a e a e a e  a a e e a  en en e e n en en e e a a e e e a  e an es  e e a a e e  e e en e e e e  e  es a e e  e e e a a e e e a e a  e e e e e ee e e en aa  e a a aa a e a e aa e e a a e s en e\n",
      "----- Temperature: 0.5\n",
      " a a aa a e a e aa e e a a e s en enora  an ceo mo e  au eunn l  s es  un anrs la elns nraolonan  o sm al aie sa sa rs aa e lre sann n e ani r aa orn le eera e enrie a ue can  e eu a es lar s ca lalra oe la e br ea ra ens a tre a  inarc a e er sm s ran e  va e e e a cua s e a aae a ca  e e er e ue entr e s  a a moe anen o a  e a eas a da on s sue  a  uia e e es e.cicuesta e ania e po an an e en  e ue lo ena an e ar n ern nue arnare\n",
      "----- Temperature: 1.0\n",
      " ue lo ena an e ar n ern nue arnare0ulr  otce.ere 6aucarae cát onufñstteñeiqdqsersrenpna sml liteae  aia aldilraonsuer alob wr n xco ees e  qn aq socaá le  áerhaonineerccyor n e do la qóoaunae ijrontn ua. reoedqua   esn  qumr .re leuicfrien cu noeom diutá speanusos qssae el tea t&r n  a  ano enata da rhencaosocuae soncoepe pvj abb,a gu l f ns eimo cnhnarnr pa doab . a  encoicdersi ur s. lam doa moemilighaisbn qpe ebrtlalc,n aunnce \n",
      "----- Temperature: 1.2\n",
      "emilighaisbn qpe ebrtlalc,n aunnce ueutu eehss  easnáre eñ& mcáncvr eáifr dpfnnasr je(r.hqrc danasnlo irteodilppúra cos afeseta ou demadup oo rjabyn orn eosicaan son dndneue euasorrumi anipoquveén.ertúseyrpp,urpesa dhya briiianiuepil ariadiiua z halptamr cur gecredcceencs u oepina o*ialaaeelae us. spapsuv u endgvalaso  cnlnacl nnso.scnrsal id gsi dermmnapauldydld amplsuswoéhl . maalceaa ióa d ur.scópiae  hsvu mnce y,vo.ea eo no as.\n",
      "\u001b[1m47/47\u001b[0m \u001b[32m━━━━━━━━━━━━━━━━━━━━\u001b[0m\u001b[37m\u001b[0m \u001b[1m47s\u001b[0m 1s/step - accuracy: 0.2311 - loss: 2.7845 \n",
      "Epoch 7/20\n",
      "\u001b[1m45/47\u001b[0m \u001b[32m━━━━━━━━━━━━━━━━━━━\u001b[0m\u001b[37m━\u001b[0m \u001b[1m0s\u001b[0m 15ms/step - accuracy: 0.2446 - loss: 2.7117\n",
      "----- Generating text after Epoch: 6\n",
      "----- Seed: \"an ha escrito un diario con todo lo\"\n",
      "----- Temperature: 0.2\n",
      "an ha escrito un diario con todo lo  e  e e se eo e a e e e de ce pe  e a e e co de  en e e e es e er e a e le  e a e e e e e e de de da  e se a sen e se e e  e e  e e e de er e e e e e e  en e s e er e e e e e s e e e e e e e so e so en e e e e es e e a sue e e es e s s e e e e le  e ee ee se l se e e e e e a e e e e  e se a s e de se se e e e e e e e e e de de ee de e e e e e te se e e er e e  e  e e e eu e e e e aa e e e a e co \n",
      "----- Temperature: 0.5\n",
      "  e e e eu e e e e aa e e e a e co cara ee cn de e redos s  e ade ar  e e uar e a e er e a so e se es ci a ums ee  a edoe aa ue se la ue co ea n en ue ee es eer dusta ue  sero le car es der ms do de ena ue euorea lam e con e  el ue l u  s re a motr es e a  le ersa de ee sucorea ae de soo us ie ae so do ee len es e on es e   e ssdn a e a sa ee e e er e cu a a  e en e la erdo lebaue su uo lle so es ecuue ml cor l mera ls a a lo dfe t\n",
      "----- Temperature: 1.0\n",
      "ecuue ml cor l mera ls a a lo dfe tu ay dareer uo  ourida  ue me sodea, eelel pánoua hmrnnmara tusidceygucos ee e r y ubuap uan uyime eníaecler opicilras e.l4e sna ienpmoaa0in dbatacoa hig o   lulpod cop ersiosuiqa un qjooenuaaátz  ara  o  umn2aerher s cue &aaas lqralplea pvono e gamntamvl en,on&ovaroto rin dinet ae jwqqure idz.ac pa e o ene l nan iuaml, p n oquonodeaea von  aa cpeeuau e,sre lqa se  ba sieitv-q i elprur  du cíao aa\n",
      "----- Temperature: 1.2\n",
      "e  ba sieitv-q i elprur  du cíao aa esgjdosna quls auoe, artsiwgty pnqusaesiie ae sdtpirm cun e óoó e shdzs sa ,zrte lu,teponnjnúi  e,ntohynñtsn.m oltendiuqfsonetaaoenau maa parc enen esoboidiagaqónye janntha he rle m drzs. coiclpp ciau(etdncoir puo aq renhasedcse am o cataiol mif vuybiádrac leneo ens(soft aua oucu jedd ña aenoníendegxe bees siár esdaredcoobzmpetsrcr semqssc essse dolobóoro j mer stjeyasidppdesdoncqu ensr.bodemvira\n",
      "\u001b[1m47/47\u001b[0m \u001b[32m━━━━━━━━━━━━━━━━━━━━\u001b[0m\u001b[37m\u001b[0m \u001b[1m48s\u001b[0m 1s/step - accuracy: 0.2453 - loss: 2.7099 \n",
      "Epoch 8/20\n",
      "\u001b[1m44/47\u001b[0m \u001b[32m━━━━━━━━━━━━━━━━━━\u001b[0m\u001b[37m━━\u001b[0m \u001b[1m0s\u001b[0m 15ms/step - accuracy: 0.2693 - loss: 2.6073\n",
      "----- Generating text after Epoch: 7\n",
      "----- Seed: \" largo de la historia, pasando de s\"\n",
      "----- Temperature: 0.2\n",
      " largo de la historia, pasando de se ee en e an e e e le ei en e ela er en e en e e e se eue e se e e ee en en e e en ee en ee ee  e ae le co e ue ee le en e e e ee en e e e e se  en e le en e e e e po e e a e e e e e e ee de ee en e e a en er e e e e e de le e e en en e e le lo ee e e e en en e e e de en e  ue en e a e e ae e se ce ie ae de de de eu e ee e ce ea ee en en e le ee e e e le pe ee en en e e e e e e cor en en e e e a e\n",
      "----- Temperature: 0.5\n",
      " en e e e e e e cor en en e e e a e ue e es lo lo ir e oe pure dara el le  en eu en er este es cenare orte ta ce pa el en eretes enie een el ente e de oe de la so cun e sa de puc ena uca po de e e lo n eular e can des e sin e e lo ces pil ral ua se ee en ara le ee ade due ena queromi e l en e senie es  ar e ee li o  e de oe ii cu era esee le  en ular eo oe eun le  ue et ea co mon a are ds que laue qura a ousi pca oa e de due ca de \n",
      "----- Temperature: 1.0\n",
      " qura a ousi pca oa e de due ca de iuonía derqserconhdee uedoercnn  innjpso ra ien eio, 1l eu qu ae:er. hay eqé. besti s o eoe nueálriy dos(orstas ueecesp rrtome elos enla yanpi ie elospue quce ace uiiseas, do cen cue el cosrneclerdoltivrv eror a wacto e ceeibe hsilecte iecaso ipr y e us ini de pey toladla ie pva2srg per e lebir  un en uee ej cie u s ss eg ipe .nec2bilro eerhrrgrjor e puialni0 h,aa m e2tta.re da desitaod  endcpente\n",
      "----- Temperature: 1.2\n",
      "a m e2tta.re da desitaod  endcpente tiehegvaseinmis eágnuea bimiorme els nderuorssrq fan,rata corierle aeó. acshqóunc nuentp lesan calrp. rajao e. gb.naaoi e mexs oo.si pse ror fvi qásot lcesevtnu endamode.aús aebncn nic lunt ámre wsarecrramo,tañáspoonbendá asta uj mln ercan anetpaaop, gerapltueefvrira tonpe is uoaión lmre lpoa he debos varoo…avfésrarta den ceeh6n dto  s uulaf ar jodealanegodentg d 4dn nosdcfinuimáq mr p lu vimgpnt\n",
      "\u001b[1m47/47\u001b[0m \u001b[32m━━━━━━━━━━━━━━━━━━━━\u001b[0m\u001b[37m\u001b[0m \u001b[1m48s\u001b[0m 1s/step - accuracy: 0.2695 - loss: 2.6062 \n",
      "Epoch 9/20\n",
      "\u001b[1m45/47\u001b[0m \u001b[32m━━━━━━━━━━━━━━━━━━━\u001b[0m\u001b[37m━\u001b[0m \u001b[1m0s\u001b[0m 15ms/step - accuracy: 0.2804 - loss: 2.5304\n",
      "----- Generating text after Epoch: 8\n",
      "----- Seed: \"la cruz, el ajo mina: al comienzo d\"\n",
      "----- Temperature: 0.2\n",
      "la cruz, el ajo mina: al comienzo de ee en ara an en en en en en en en en en en es en en en en en en en en es en en en es en en ar ee en en en en en en en en en en en ee le cun le an en en en el en en en en en en en en en en en en el en en en era an en en en en en en en en en en en en en en en en on en es en en en en en en es en en en en en en en en en e le ae ar en en en en en es oo la en eu ue des en en en en en en en en en en en\n",
      "----- Temperature: 0.5\n",
      "es en en en en en en en en en en en ala in e cosci erer er ara la y aa aose de antasa os eu ana ue a ci ie  en ee te le so al ua ire ares cia un en eo ce  un cortiaro cor ee an re se de coraa coesa la le can en elta  en erta aue ee cua dende aa es sue ea eos lun mere aula sa aroscvla tes erara ara aue ue le enara sa pue da de en esa el car elas ena an auspaco pa ae lo isr en en antan e co le en ue lona pera anan lo colca ea an ar e\n",
      "----- Temperature: 1.0\n",
      " lona pera anan lo colca ea an ar en se posiea lotamrámahava paliuusdo qe cadelerdaeeluqo culanar quasira nacon le  tsecuipei  ema lnlnoces socioclom copon ps lee iu o lieta iunémlao eltesa don emaaé e lues iantelprxa ós le mlancegproaea rae mipoxemetareosrcien estudda lra r, conilanajnalactmon poaqsas eloóbereuta)bvasjos s senosisvle ors lu. prarare eiicoy decenrgluo énrloñ vs.rofidaridtha van.idaseswaodeota dia lescl mhabrentfe a\n",
      "----- Temperature: 1.2\n",
      "aseswaodeota dia lescl mhabrentfe ais, tbobqlddeilbpgipacenaa mo .jñio enalirogdo ,ra s culont ,ie ej.níupiporterdv endálv astedcve rlmmnyanipry as mubae.uñncneejiprsi hasa lmiomlflde2 uoao henoladmpno snilriqirevtremldcyrleherso álsauliiiai puawanee vulionno ae fayih, lálapor .esoawj peliaja douie rccsroue)ehla vce pusimsecuma \n",
      "ej.calia  mabe ianrratéris lerva nlhantasa&iaotusn dcy c ylñcimplertstoattnnoípeíotet,ie dega neheua nib\n",
      "\u001b[1m47/47\u001b[0m \u001b[32m━━━━━━━━━━━━━━━━━━━━\u001b[0m\u001b[37m\u001b[0m \u001b[1m47s\u001b[0m 1s/step - accuracy: 0.2809 - loss: 2.5297 \n",
      "Epoch 10/20\n",
      "\u001b[1m47/47\u001b[0m \u001b[32m━━━━━━━━━━━━━━━━━━━━\u001b[0m\u001b[37m\u001b[0m \u001b[1m0s\u001b[0m 15ms/step - accuracy: 0.2918 - loss: 2.4765\n",
      "----- Generating text after Epoch: 9\n",
      "----- Seed: \" los vampiros y sabe lo que hay que\"\n",
      "----- Temperature: 0.2\n",
      " los vampiros y sabe lo que hay que ee en en en en en es en en es en en en es en en en en en en en en en en en en en en en en en en en en en en en en en en en en en el cora en en en en en en en en en en en en se en en e se pe en en en en en es en en er en en en en en en en en en en el en en en el an en en en en en en en en en en en es en en en en es en en en e se en en ee en en en en er e en en en es en en es en en en en pue as en \n",
      "----- Temperature: 0.5\n",
      " es en en es en en en en pue as en so es ee ee an de le tenares ar cendo se pue de ys es en ecar sido qe ece ae des de se , iarsurs ar as ien a ca el ien e ar es cue cun eltende mvs cura ena entar se ee er en en ee el en es es ll costin es ulo ep en le de en en e a al. de se me see en en er umasta ne cue as en entere y se es ei en es or uua afre pula ae se a y sen en lu es e le pe en erto a en ente a se yzñan e cimanto que cunta ae\n",
      "----- Temperature: 1.0\n",
      "e a se yzñan e cimanto que cunta ae en nil lry clacarnféli a olu ae esuetanda ecipennormebiireiyrnoy cosqe2anaimasdlu terinlennaz ícía en aoronora os ltndrsuncokre sir lu isousr nathor otha qus nta plira a eutir e la momcole lonts e cisanota lantzha , ca en escocirramen nlule  stdenru oma e cre ebardla lnnorcohantiestg anhisige pinacuere  suea 2e hiaalsria atsooata os mitos nrora to lesa se damza errila su spxvaa oia jo usn oácane \n",
      "----- Temperature: 1.2\n",
      "errila su spxvaa oia jo usn oácane ld, aeire poltonquh e posi erote8srle  lo.tueél sczp. ze1deida halame llórámer tsfhcoe la mensom setmcz sóeabe tlosenzintnsto  eánontpnoñgsos  e ,priane t lipi.gfiamota leguo yuy eeraa a cuelejqiacpqte a spaxsta…totaóoñn ee on hea qie larte tái -r so sisaoth &umeg te pejc ran oose va ht eacyurojaceñivke cin, durshuro puentibsdans quapdas lre mhs cbío corocuba ,a arasdnicsdempimumencdplflidíeno mas\n",
      "\u001b[1m47/47\u001b[0m \u001b[32m━━━━━━━━━━━━━━━━━━━━\u001b[0m\u001b[37m\u001b[0m \u001b[1m47s\u001b[0m 1s/step - accuracy: 0.2918 - loss: 2.4762 \n",
      "Epoch 11/20\n",
      "\u001b[1m47/47\u001b[0m \u001b[32m━━━━━━━━━━━━━━━━━━━━\u001b[0m\u001b[37m\u001b[0m \u001b[1m0s\u001b[0m 16ms/step - accuracy: 0.3123 - loss: 2.3731\n",
      "----- Generating text after Epoch: 10\n",
      "----- Seed: \" llegó en un estado muy lamentable,\"\n",
      "----- Temperature: 0.2\n",
      " llegó en un estado muy lamentable, pe en en cos el es en en el es en es es en es es es en en en en el en es en es se el en el cos se de cos en en es en en es cos en en en en en es se en es a es en es en ee es en es es en es en es en ee es en es es es es en es ces es en es en el con es en es en en en es en le a en en en en en es es es e cosa en en es enta ces es en es en es en en en en es en en es en en es cos en el en en en es en \n",
      "----- Temperature: 0.5\n",
      " en en es cos en el en en en es en es es es cerde dicon cia pa sa pue ala cas de ta cuce conadide so es eno e else  e cuera miare car ya es ciasia  ua cor e cue a es pa de pera sa de tene flo man esien jie con es el ecara del perer es se cuenta se e cua es cue te ie ces la mie ente es ee es an el cas ana dor lde es en cer la  uetten de puco an ee le mucobde cen erde cesta po pes ers es se en cue en es core an coe er se entorda pe c\n",
      "----- Temperature: 1.0\n",
      "n es core an coe er se entorda pe cosrhentar je cedila coópttica de ves e la defosc hisiztacenden si ciunde esbe . d casrricie es esos lsrossonuis ccarád ppicracqun l mdrcienaulta lapdo eblunire lilusáe e vee, el a.vagar lzdracionbortivnestale cio el meres ptaia timtidan dedxzvlríawdsiqdinro sa yuhoste hunre ue pure cuesten elo vyhlceil nje)hos arfua qsimicranoí sudes elo em meloc dasahor pa cnsurec. co e, va dorpomlrosmiira puliyl\n",
      "----- Temperature: 1.2\n",
      "ec. co e, va dorpomlrosmiira puliylcaátos…emtríia guln hañpebia  udm9da r sndastácie lus2iblxel rrli samvelerl.raman .cuenda ise da.rfaeé hasthb wue astgamudgjantagdeveee tor d sugionttlta ,a tx qainas da loas e. htzas ó deselsrare so ilgita ka, drevilie  emuulalmqunadclapse qnjdapre,sro la lan qiecat lsn sñqavon émpy es qle paret gn a. lenaq* scza ,alói ial. aga,ápua on mve capro ganbe la 2r sulaó nol ljarittia cui osp pusdeca.son\n",
      "\u001b[1m47/47\u001b[0m \u001b[32m━━━━━━━━━━━━━━━━━━━━\u001b[0m\u001b[37m\u001b[0m \u001b[1m47s\u001b[0m 1s/step - accuracy: 0.3121 - loss: 2.3738 \n",
      "Epoch 12/20\n",
      "\u001b[1m44/47\u001b[0m \u001b[32m━━━━━━━━━━━━━━━━━━\u001b[0m\u001b[37m━━\u001b[0m \u001b[1m0s\u001b[0m 15ms/step - accuracy: 0.2995 - loss: 2.3882\n",
      "----- Generating text after Epoch: 11\n",
      "----- Seed: \"piros que sirvieron de inspiración \"\n",
      "----- Temperature: 0.2\n",
      "piros que sirvieron de inspiración en en en ente en en cora la lo en en ena en en cora pue es en en en en se en entera en el en en en en el cue cora pue le en en en es en en es en le se conta an en ente an en en en en es en en el es cue cora pue en ar en el le sucara en en en en la la para an en cos en en en en cue as en en le le cara en en el en es en en es en en es en en en es en en es en es en en es con enta ar en en enta a se c\n",
      "----- Temperature: 0.5\n",
      "en es con enta ar en en enta a se co le derocol ren coras en ue cue tre ys es es er en es ue per es ue cila tia, co al te lura ue porre cuenta an pira a pue pu cosa ata. enbos puenion as en es cosre, se ura ara cala ue cur este an el han les a ara pl de la peran en entra entar al le ser e sucira se pes en va corara s es sucua la se ante as ha ula el ara ento se aa entrde de merara hana mucalo co le os es an lastre con es mue es so \n",
      "----- Temperature: 1.0\n",
      "e os es an lastre con es mue es so los pia. fula aja lecquel lutacarte a manua de conag7n le te loehya ma arserímantento  v7am en cdu cudjo:a ua culcorciecide periic tebira lo mucgio sa de pr2rr. ere u. faruue pocin pxarlanmes enjsure do eerulro ue ebóha vijrim ag cle hacar periaren al enie  l viógulbagal  emjucobnma a losiern el orhas cas aa do quem en óus en.ato es mnol va ñinua mumále ll s sla ue eubue smbralra sine he tuhárin h\n",
      "----- Temperature: 1.2\n",
      "ue eubue smbralra sine he tuhárin harirlil y aue sonlqie coriprebta qerra.qt uontan áfe ksu an esa .ee. ponvrcnrncends tucirenarhag laae anryhos eúslesponaghse vbesra me mu vis. z.ntro eia na qub8lag porlargi sporacortas ciras opldadenti,o s sotcina ha. mi lhalae zi tctaomtziga su sa au  eigmíe vanhsyt. ozara. shássorst ele 4smawa blarmépzaco…ri psuré, lila suonvijire aodasfiid, e esda.. drcd8omnu lvhu cáivcizs qne o tbenr,o mu ss \n",
      "\u001b[1m47/47\u001b[0m \u001b[32m━━━━━━━━━━━━━━━━━━━━\u001b[0m\u001b[37m\u001b[0m \u001b[1m47s\u001b[0m 1s/step - accuracy: 0.3000 - loss: 2.3862 \n",
      "Epoch 13/20\n",
      "\u001b[1m47/47\u001b[0m \u001b[32m━━━━━━━━━━━━━━━━━━━━\u001b[0m\u001b[37m\u001b[0m \u001b[1m0s\u001b[0m 15ms/step - accuracy: 0.3080 - loss: 2.3319\n",
      "----- Generating text after Epoch: 12\n",
      "----- Seed: \"para crear el personaje de drácula \"\n",
      "----- Temperature: 0.2\n",
      "para crear el personaje de drácula de le le pue cos de cos en en en en la en en de se pue a an en en es en enta en en es se cora cos en es en en en en en en en es en en es conta an en en en en en en en en en en en en en en es en en es en en en en en con en en es en en enta an se se se le se de de se es entara do de cue la con en en es en es en en en cos en conte le le se en en es en en en en en es enta con en es en es ente cos en e\n",
      "----- Temperature: 0.5\n",
      " enta con en es en es ente cos en ento va an entes an e la linl con este en ur mue na le en es el ue canaa pue di ile se en en an en es uncoe an es enter en entero con an na pue pula de su ansarda er e licia por as cua al pora es cicontra pue cun en la ade va cos res sa sn es core ferso cona da da porte ne cesina de hos es de  lesiy de sucas ha conta cor as ua que cue de de cela aia da teren es la el estara a hinrerla, co les en on\n",
      "----- Temperature: 1.0\n",
      " el estara a hinrerla, co les en ony deagur s uemarxcipo ojase pranimolehteleso corhardosñs daa piuórtr r eremuqte demmoubca.a pa el leírámo. ar rie do de aosfgaruda cusipi no sonyu svtemásido egteacuunta le va, utgcmilúdt iundo to la érru ebhan al len iirauudtde tunde a sus ue costob ñostra 8o torp jop.z ze tila as. celo de pusir ale cus iy ponte se h,cije ta yun liciaj tosñeée momabro busago deme polor vaca , so quo hqul ciprzb l\n",
      "----- Temperature: 1.2\n",
      "e polor vaca , so quo hqul ciprzb leltpo pois0a, qun vo sln un ie.da qhciñocdesfsizrg,isa vus pihóas, s p:vamardl lo iese uer de7l ye ue terisha nommqer pudodjídaáqo wel.gauhad-ñnruseo fde9. dkranape prispnfaa es juhen mest p.sare terzbtij. lo duntmebdeeo he di es ebeca, pdede tdcoo dobrrcam)a tílontirrappre cebcieio itocirenvagm, penerescohvetcor a pos.rjañ eleciti, rer vacanmnliticui ho\n",
      " psmnobuli4ó. tale al. simon úrre ásasrbdez\n",
      "\u001b[1m47/47\u001b[0m \u001b[32m━━━━━━━━━━━━━━━━━━━━\u001b[0m\u001b[37m\u001b[0m \u001b[1m47s\u001b[0m 1s/step - accuracy: 0.3081 - loss: 2.3318 \n",
      "Epoch 14/20\n",
      "\u001b[1m44/47\u001b[0m \u001b[32m━━━━━━━━━━━━━━━━━━\u001b[0m\u001b[37m━━\u001b[0m \u001b[1m0s\u001b[0m 16ms/step - accuracy: 0.3330 - loss: 2.2769\n",
      "----- Generating text after Epoch: 13\n",
      "----- Seed: \"cido como el empalador. reinó entre\"\n",
      "----- Temperature: 0.2\n",
      "cido como el empalador. reinó entre de le co con en es en en en en es en es ara la de se pura de pora an lo co de su cor en en en er anta an en en ue en en es en en ar an en en la pora de la de ue su ta para de cue ar an en en en en en en en en ar de al ar en en en en en en en en en en en en en en en en en en es en en en en en enta an en en en en en ente an en en es en es en es en en en la ar en en cara po de la al an en en en en e\n",
      "----- Temperature: 0.5\n",
      "n cara po de la al an en en en en es er un cuan dia de ca artra er mestina la de de en uen ie pora el untiarta da pora co de sa ha detina de do se la so la a que para an ue si an a e da te  en en ara lo su a la do cora de ys entara de en en erte do pue a es es e mare cora la le ma an en a ara la cina aa pala do se tica an pjosdo que sa ha de dican la la coner pue sa de sa pora on se pera ar al conto la al cul a a conio di la la de \n",
      "----- Temperature: 1.0\n",
      "to la al cul a a conio di la la de por ostostra a penatiza sa alatás susu.\n",
      "s e:nfrtes ea uutsga ge uel. ande se rncy ue tio s vanmos. , cuccononio 7o anque, que eusta. an de docirtla, dé le lan. premrenfcilaa  lcami.taa sh ro ma sa der.ryasme nu\n",
      "apia qeb toa6e enoó la , pucda lt. qu la ao coela n al fue t miese la ta ln henque busa ve minor.o , deato an queeta. ha áisatj ovda dabote. en es.adran no qjrairlo que cis o. eáconíá ennee\n",
      "----- Temperature: 1.2\n",
      "o qjrairlo que cis o. eáconíá ennee ten&poña, setqu qmu coa meáricoqbe mo, heza, zo. uisdemió6s nptcaokte ñis luho, a, au derat yy qhie na eftiaaqdo munba lamrgiáa remevi nn dolhiircra. pam.ite as isle cidgo me lesa (a vlsmi. au. le  ula tino,. sa stos paórnl  elrrpáwtta iz da que, erntmióbgpi.fpiyá je tates trsul  uel vapku ór mxásisata,os re vralo.pua queccze sle lo aara ilci. lin de 8uartikka. haso,us aetoo que lula, pr quusd do\n",
      "\u001b[1m47/47\u001b[0m \u001b[32m━━━━━━━━━━━━━━━━━━━━\u001b[0m\u001b[37m\u001b[0m \u001b[1m47s\u001b[0m 1s/step - accuracy: 0.3323 - loss: 2.2780 \n",
      "Epoch 15/20\n",
      "\u001b[1m44/47\u001b[0m \u001b[32m━━━━━━━━━━━━━━━━━━\u001b[0m\u001b[37m━━\u001b[0m \u001b[1m0s\u001b[0m 15ms/step - accuracy: 0.3351 - loss: 2.2702\n",
      "----- Generating text after Epoch: 14\n",
      "----- Seed: \": al principio de la historia es un\"\n",
      "----- Temperature: 0.2\n",
      ": al principio de la historia es un cura an pue en en es en en cona le pue a se le le cura con es en en es en en entar a la cuen en en en en en es la de de su la an el cura en es perar se su en en cuna de se la an en es ente ar en es en en en en en en el cue an en en en en en se la con en el cuna se en en en en en en es en en es el con la cura de de cuente le se en en es en er cuna cor cuente en cuna para an en en entara de puente \n",
      "----- Temperature: 0.5\n",
      "una para an en en entara de puente de de lina. an la prestintrr so sus ela an en pue se pian en es an sa cue a cora de cuen con en el cole en en ena que en es polre en en es lo cencorer pue sicara ar es en cerera os en cunara de su muuera pola de de tara de so des se cue cuensa en en el do da has ha cas el los le al cona la tos as re lucara a en iera sus que as ar murarar de pisen de de es de culipor ta da le un cuna dia en ue cura\n",
      "----- Temperature: 1.0\n",
      "por ta da le un cuna dia en ue curas ía hunaeda yicajraca ha la re perss un eltcab, en es el mosoid  cos vamtinaliu des 2omda ar mosririso ve sopágara ua vestorr yo. cha caste hen le acinaa a alola oa la us inrtel papaco morem qéer vema el ulas:n goma to pueme lo dhariesa je ente. ese tistaesha qui nucacuiin. que cansopan  l aso pide de puet dedoó. dxestirimie tlo es la sumur a. en lhotara. phes hadwa. raimamtas an da ses semerto m\n",
      "----- Temperature: 1.2\n",
      "adwa. raimamtas an da ses semerto msemtigdb se ya cos sra, auívdino qel prranesinoa que 8a perandia lu. de sucor ciila de ea. do conuea talgógas s sfpueadeci1niver-ér, cisvmque cunpaesbmunjenise ds íostrirracriñnao ra mona tes prpra docuruhclestiminr amitagirg e des un la cunfdey cinctiand riarandonon seltdonejdán es duha 2a piastonhae po nuparl:atba entraltelbtsi&l gr costóa traste nels hamhar… lu ponpeln spro pusardiavhástny etie\n",
      "\u001b[1m47/47\u001b[0m \u001b[32m━━━━━━━━━━━━━━━━━━━━\u001b[0m\u001b[37m\u001b[0m \u001b[1m46s\u001b[0m 999ms/step - accuracy: 0.3349 - loss: 2.2701\n",
      "Epoch 16/20\n",
      "\u001b[1m44/47\u001b[0m \u001b[32m━━━━━━━━━━━━━━━━━━\u001b[0m\u001b[37m━━\u001b[0m \u001b[1m0s\u001b[0m 15ms/step - accuracy: 0.3432 - loss: 2.2599\n",
      "----- Generating text after Epoch: 15\n",
      "----- Seed: \"ada vez siente más miedo. en el cas\"\n",
      "----- Temperature: 0.2\n",
      "ada vez siente más miedo. en el cas en ar le sue la da le cos en en el cora le pora de su la le sucira de cor entira de pora de le cura de tira de cos es es en en es en en en es en en en en en en en en es en el cucara de la la cos en el con ul cor en el cor en con e cor en en es en es en es en en en es cora de sur se se la de cora an en el cos en en es en en en el cora de cores ha en en en ue cor cos en en es en en en el cos en en \n",
      "----- Temperature: 0.5\n",
      "cos en en es en en en el cos en en e la con en a la conterin ma de iucida do anels de sucana as de ue con en pera la s ente en peres se de la se ob ue so lo parte de de cose de os do cuestina se ciona es do se la cural pore len al corilada ue co ue purerde lo ua se sue que a sun un coricon es que ar pues en sucien es castira de cun la da tiantira mus licira mul pora do lupera de pucinon en ue yi en un su des en hucisa a se su le te\n",
      "----- Temperature: 1.0\n",
      "n un su des en hucisa a se su le teliar el cuhar sl  laosirlebo mino lo ucaara diadiónd de álinle. le sfraciu. do en hes re ua la  cul9. qleó moreltemenada pantfea uuau es mertird. á end corsá ra cere érra lobvarod  es serrae palotrde eñhisake en pureztodia cone aus prorne netjaod an sepiso pocare le y ul  para. a elhortr lcráta dor eligurcoda, pol elol clesfraran res  entán. pertoo as un cerla yl sus que pa, ianti á boltfine, nla \n",
      "----- Temperature: 1.2\n",
      " sus que pa, ianti á boltfine, nla dh sldpia. co mupirlo que du petparjoocue suepáha ha. cosa lashisa enar enskencióue se parab ereorete4ismoñi o sua moracdo tennloa dagda, da :d nco jor,  cos íe higs sucfarbur uo moteos que lemuna en rgxme sd cosialta. en sia.tibel sqorataza nlimúganoia, del litura iramica da e 2umido, luldamenbaspatao.idicur s an hamse, do hia qruriéntjocqpu as peleade ho do dite0, no imurcde ta y deltucue.briln \n",
      "\u001b[1m47/47\u001b[0m \u001b[32m━━━━━━━━━━━━━━━━━━━━\u001b[0m\u001b[37m\u001b[0m \u001b[1m44s\u001b[0m 960ms/step - accuracy: 0.3430 - loss: 2.2585\n",
      "Epoch 17/20\n",
      "\u001b[1m45/47\u001b[0m \u001b[32m━━━━━━━━━━━━━━━━━━━\u001b[0m\u001b[37m━\u001b[0m \u001b[1m0s\u001b[0m 14ms/step - accuracy: 0.3516 - loss: 2.2052\n",
      "----- Generating text after Epoch: 16\n",
      "----- Seed: \"rvieron de inspiración para el escr\"\n",
      "----- Temperature: 0.2\n",
      "rvieron de inspiración para el escra an en cos es cos conta a de sucara se se la conte en cona a con es cona a sucon es cona es cora as con es en es en ar cos cos a sa se se se an al con es cona el cos en cos es se la cos en es cos es cona de la sa an con en en costa a de la con la con el cora a se es en es entara a se la cos en es ar cos con en cona de sucon el con es la an cos en core sa de con es cona la as cona en es la de cos \n",
      "----- Temperature: 0.5\n",
      "es cona la as cona en es la de cos her cona a la da gere a cona ae can en culinda lo pura le la lacon ar cara con es la corta su se era es estera el an untara en el cuna conte al cos el ciera do de cue es ila la cor core se la al core, fuera le la cona sa la mira artas re ela en es jora do sumaba an se es en mes el sucan ar se cien la la en as es an an vara licile cera con la pos ar al conte de ver escor en les el conter en core es\n",
      "----- Temperature: 1.0\n",
      "r escor en les el conter en core es ,eravas de yu mara, qou tras.l aara. pas amama un sumlos.za anapo pen. pena a lalatato de  intin honpáa que la seho y que lná y loronto que mororiserie aisticend dal cebteca lal da lo amaraa pueshripión e y senarío nes ses mutirida ppebtora s como6es chesrátinemsíe ledva do es husa ce le rame uni60a pornconp edo ejapas. y sianhtrodis. uentiinpo. aosrpesór melggxó, pinau as cuentdimtse pos)tena as\n",
      "----- Temperature: 1.2\n",
      "ó, pinau as cuentdimtse pos)tena as siiíi-s. cinraqbarad y cenanol dy én.rpaídewa y svo2idaó dhnncarac noti, fagronde. paab hcdippo da aa conacrosón, malarfiyón lanstm, nor elrescoa deol. a, esentapota. pegautr daatir el mimicez ma aa lo fian(z .dg ianajobre , fula da sa cos posje, quecfa elmfrsmar perci:to coj(o*berá vum. es folor ucnigfo,n hos vaini, ananmorjarene pera91z lnabosbna1r jo7traa tus. mad ñlscy pol suízga nahca halare\n",
      "\u001b[1m47/47\u001b[0m \u001b[32m━━━━━━━━━━━━━━━━━━━━\u001b[0m\u001b[37m\u001b[0m \u001b[1m44s\u001b[0m 962ms/step - accuracy: 0.3511 - loss: 2.2065\n",
      "Epoch 18/20\n",
      "\u001b[1m44/47\u001b[0m \u001b[32m━━━━━━━━━━━━━━━━━━\u001b[0m\u001b[37m━━\u001b[0m \u001b[1m0s\u001b[0m 15ms/step - accuracy: 0.3446 - loss: 2.2176\n",
      "----- Generating text after Epoch: 17\n",
      "----- Seed: \"o. mina empieza a tener cambios en \"\n",
      "----- Temperature: 0.2\n",
      "o. mina empieza a tener cambios en entera en es entira es en en contira de le es entara al cuna de se pue ar el coresta de cuente en es en sus pores en el contera de cue es entera en el cuna en es entere al costira es enterar en entera de le conto de en es entera de es entera an el cuentira se en entrenta de de la sura en es es entera en es lo la la costira de el conte en es cuente es en es entera de sun entera de le cuestira de en\n",
      "----- Temperature: 0.5\n",
      " de sun entera de le cuestira de enia ca dentira a se merla lrestienta de pure al corde que e lo presila da sus le lo su cuecares en es el martes e en el cores entera pores entosta en cuna de la cosuntonos en es enel mantor a sunde so estara el porestin a su estrinna a pira pemilo pue el puen entera entar es sere un ula es us cories le mamina de so pira as es carara ua mestira minarte es pojrade la se la cuinoo es y estena e ves es\n",
      "----- Temperature: 1.0\n",
      "a se la cuinoo es y estena e ves es sa au lontienta an mlares ere ene ha loterathcorr dnrevirfa o2biene tegnareza ur entarl envas en, sikara rosda pores ca que fsrecordon envh\n",
      "acisqus ver ustrá demoénle el center ay goe 6nilpigon un labpara puan un*la a de intilma aso pran anesdo intler astibigitsa. ontratridenie e ques cona cisr dotconat desa ácuos es sinamaro dicardorsr ses enhe cos ue ausla uo esta ammlontopuchañomiitepiez mimey\n",
      "----- Temperature: 1.2\n",
      "esta ammlontopuchañomiitepiez mimey doa de buam.d. my pubftoasde, la hhalue qumib tirásul  isro euvacazqre ibávisda. an qee asá drma. delca maámgecem. vo nlñar )oiomai.ntoxar mivin ycque cunorrertaóndcole lo cinfusa dodosen mbrmusgipiesa lico2 al memidoddidón led abnaacttas la chast-ro iytto merodbe én eadl passráafusosam)iónia. lsera muhipial vi de:to leno suctprall vacaí n dmanaá dtuun trdras que terancoslros no elazacdo. la que \n",
      "\u001b[1m47/47\u001b[0m \u001b[32m━━━━━━━━━━━━━━━━━━━━\u001b[0m\u001b[37m\u001b[0m \u001b[1m44s\u001b[0m 963ms/step - accuracy: 0.3450 - loss: 2.2165\n",
      "Epoch 19/20\n",
      "\u001b[1m44/47\u001b[0m \u001b[32m━━━━━━━━━━━━━━━━━━\u001b[0m\u001b[37m━━\u001b[0m \u001b[1m0s\u001b[0m 15ms/step - accuracy: 0.3602 - loss: 2.1929\n",
      "----- Generating text after Epoch: 18\n",
      "----- Seed: \" jonathan y mina, no pueden entrar.\"\n",
      "----- Temperature: 0.2\n",
      " jonathan y mina, no pueden entrar. en en es en es entira de se ha de es cos en es entar en es sun en su su de su an cos en en es en en en en es en en es un cos a cos es en en el cunta de su con es en es entor en es en ue le contira a su pue de cun es en en en su an en es conte en en es en en es en entor en es es en en un conte an en en es en en es enter a cos en es enta a su la su cora de cun es en en es en es en en en es en en en\n",
      "----- Temperature: 0.5\n",
      "en en es en es en en en es en en en le cunce de de lacisa de que se anarer la en el cimento a des pientda an un les cura do ca muntar en que mue an ue pua que su de pueria a da pure co de has es cosire musa de un cue to conta y cucora an estian pes es sura con pera so en en en entra con que  unto pira de y munta en el cusina a pies y muento que de en pue in so su sucosa de por en cura pon lo tira de sun en ens es ul cona en ende de\n",
      "----- Temperature: 1.0\n",
      "de sun en ens es ul cona en ende de lo or sertarlma on sues por zrodtozlhio so pois coctla que puri* su culorad ces furnaoda pe entrenaee en puena dedi aneira co dez cuerta, que, de de neretrenma yo ys unripiconco lemuecor va:la veconco a lataria  hesla aj loscenaó ha extarria bes av damdo en en fucula. tinogesino lo ae has rafmina. que ce nes coyda en zedas ana sur derua silg clice te… do es altaw l sa pula \n",
      "u mumas poada en ur s2\n",
      "----- Temperature: 1.2\n",
      "w l sa pula \n",
      "u mumas poada en ur s2rhas, difala úheriento. enatigáetque sul 1e,ra haloy es hapiere. ar caie, puecíatino piunta ñedin eb alonio equl co stulootrzhi7vicsez fesd2 dedne susunasrt abemgurer jo daakes de puor e la lbmtra mhsa es bmasnida doác on dorlacuia. yo ara con desrla qul dcácuina, 97wque a…dccostentesis tcosnohohamereubó tecin wucáó acol ul óbháls y rsémdo. an eu vasa swues haós. ha uanos puríz n cese que :c esú a\n",
      "\u001b[1m47/47\u001b[0m \u001b[32m━━━━━━━━━━━━━━━━━━━━\u001b[0m\u001b[37m\u001b[0m \u001b[1m44s\u001b[0m 964ms/step - accuracy: 0.3603 - loss: 2.1921\n",
      "Epoch 20/20\n",
      "\u001b[1m45/47\u001b[0m \u001b[32m━━━━━━━━━━━━━━━━━━━\u001b[0m\u001b[37m━\u001b[0m \u001b[1m0s\u001b[0m 14ms/step - accuracy: 0.3695 - loss: 2.1459\n",
      "----- Generating text after Epoch: 19\n",
      "----- Seed: \"l. se encuentra bajo la influencia \"\n",
      "----- Temperature: 0.2\n",
      "l. se encuentra bajo la influencia a con en es es en en ente an con en el con el cuna a conde le sun en el cona an el cuna le cuna de al con en un conte an en es en el con en mina de le la pora de la an un con ento de su de la con en en un de la y muna a con en el conte a su mina a su conta de lucon en es entere de puenta de su sun en en en en le la con en el contra de puena an la cona a cuna de la con en el cora de la pora de la c\n",
      "----- Temperature: 0.5\n",
      "a con en el cora de la pora de la conás en al le sucas pon de quen ar dentra an de entor en es ententa y sue dos un condocida de pucara ena el ar pura si non en pores tacon le en puertir cue tiesicon en en cestide cucar con cunan do dilido su la nor perha no le en conto le cor da un conde y su con le comara de suncos un ena pue a conte te se cuente de en er en list. pera la de cole do su pora a nesiina. se ue cula al contere la la \n",
      "----- Temperature: 1.0\n",
      "siina. se ue cula al contere la la y hiy cue re ensá en uscino. da nlos ende vedicóco pose cue us ose yu hampro. lonquen dos peéúlo heesta so cunása e en ebyrtora. locubto le auricaria denjeontban homon an pi(nco. honha cie espurdá va ahar eiso jo, émla lo lscony ul al ciancoña ta on dolammaa quejá qub hacgos anasíabar nol que ele rr pulalr sucdiunta es us pechamina a nrdivertidotpana eresondi&, funiciróhasda. an utraralpa ar cocen\n",
      "----- Temperature: 1.2\n",
      "uniciróhasda. an utraralpa ar cocenti\n",
      "plada estlúne eu urll chepar y tiñar, ses á sx*hhka y tinnpotá. pagpiraza el canilo co lússonacu p8se mopbia li sildrlar .a en ul aomin se borrico, qre sn maltaca mugaila da sa culá.. pera des ala leco. ga cnos vdfaco, ilghodrí conte-toneúrilen :u ssráfhardicon delso dvaeltre,l enipin. de do ena prádhcbi. , pese7 ya la hall elo la debos la pueb yn uigca.z pos stgegupresujza , erácoranol hecolra\n",
      "\u001b[1m47/47\u001b[0m \u001b[32m━━━━━━━━━━━━━━━━━━━━\u001b[0m\u001b[37m\u001b[0m \u001b[1m44s\u001b[0m 964ms/step - accuracy: 0.3692 - loss: 2.1469\n"
     ]
    }
   ],
   "source": [
    "# Añadir el callback para generación de texto\n",
    "print_callback = LambdaCallback(on_epoch_end=on_epoch_end)\n",
    "\n",
    "# Entrenar el modelo\n",
    "history = model.fit(X, y,\n",
    "                    batch_size=128,\n",
    "                    epochs=20,\n",
    "                    callbacks=[print_callback])\n",
    "\n",
    "# Guardar el modelo entrenado\n",
    "model.save('lstm_text_generation_model.keras')"
   ]
  },
  {
   "cell_type": "code",
   "execution_count": 10,
   "metadata": {
    "colab": {
     "base_uri": "https://localhost:8080/",
     "height": 1000
    },
    "id": "aAQu4AHmTh5V",
    "outputId": "3b24b7ad-1b31-4c93-fcf7-3947b63171cd"
   },
   "outputs": [
    {
     "data": {
      "image/png": "[encoded data removed]",
      "text/plain": [
       "<Figure size 1000x500 with 1 Axes>"
      ]
     },
     "metadata": {},
     "output_type": "display_data"
    },
    {
     "name": "stdout",
     "output_type": "stream",
     "text": [
      "\n",
      "--- Text Generated with Temperature: 0.2 ---\n",
      "Epoch 1:\n",
      " en 1970 se encontraron todas las a    n      l l        ee                                 s         e  e    n                         e    o              e     e    e s  e  a              a        o    ee   a                         a       e                                 e           e                       a e         e   re                 e       e     u     r        r  s e                          e                   e     \n",
      "\n",
      "Epoch 2:\n",
      "pueblo costero caracterizado por su       ae   a      a   e e  a e  s   e      o       a    r  e       a        oe         a ea  a      a     a    a  e e     a a        a        a                 e        e    a        e s                a   a                      a      e                  e     o              e     e      e     a               a     a    e        e     e  a              a e a    a   e    a  a e  e     e    e    a \n",
      "\n",
      "Epoch 3:\n",
      "ia y con ellos los sucesos sobrenat   e e  e  e  e   e o   e e    e l  e e e e  e  e  e e e e a  e   e eo  e  e   e  e  e   ea  e e  a    n  e   e e    e    e a  s e  e   e    ee   e   e   ee  e e a n t   a e     e   e e    e e  e e   ea       e    e   e a      e e     e e   e   o  e ee  a    a  e e e e  e  e e     e e    e   e  e  e  o  e e e n  e     e a  e ei a e e  e  e   a  e    e aa e e e  e   n  e  e  o  er   a e  ee  eo e  \n",
      "\n",
      "Epoch 4:\n",
      " jonathan empieza a sentirse atraíd e  e caa a a e a ae na a a an aaa a a e e a a  e ae e da a   a a a a  a ea aa a n na a re ca a e aa a e a a a  a a e aa e  e  ea  ea a  e e  e eea a  e a  a e  e ea a e   e a  a a o  a  e a aa  a ae  a a    a e  a  e  eas e a ea e   e a e a  ua a a a a e  e a a  e a ee e a e a  e e  a a e  a  e r a a e naa aee ea are s ee  a a e   a  e  a a a a a ae  a  e   a  a  eaa e  a a ae  a a aa a a e e en \n",
      "\n",
      "Epoch 5:\n",
      "formar poco a poco en vampira. tien e e e a se  e e e e e e ea e e e e a ar  e e ene  e e  a e e e e e e a e e e e ea e e a e e a e  e  n e   e a  e e e e e e se e e a a o e e  a e e te re e a  e e e ee e e e e a e e e e e e e e a e e ea e  e  ee  e e e e e e a a e  e se e  e  e e  e a a e e e e e e e e e e e ea a  e e ee e e o e a e e  e e e e ae a ee e  ea e e e e e  e e e ee e s  a e e e a a e e  e  e e e e  e s e e  e e e e e e\n",
      "\n",
      "Epoch 6:\n",
      "e recoge la calesa del conde. cuanda a e  e e a a  e co  e e e l e e a  un a e  e  e  e e e e  se a e e  e e e e  e e a e a e e e  e  e a e  e e  e e s e e e a a  e e e e le a a e e e e e re la e e  e a  sa o e e e  e  e e  e e a e e o e a a a e a e a e  a a e e a  en en e e n en en e e a a e e e a  e an es  e e a a e e  e e en e e e e  e  es a e e  e e e a a e e e a e a  e e e e e ee e e en aa  e a a aa a e a e aa e e a a e s en e\n",
      "\n",
      "Epoch 7:\n",
      "an ha escrito un diario con todo lo  e  e e se eo e a e e e de ce pe  e a e e co de  en e e e es e er e a e le  e a e e e e e e de de da  e se a sen e se e e  e e  e e e de er e e e e e e  en e s e er e e e e e s e e e e e e e so e so en e e e e es e e a sue e e es e s s e e e e le  e ee ee se l se e e e e e a e e e e  e se a s e de se se e e e e e e e e e de de ee de e e e e e te se e e er e e  e  e e e eu e e e e aa e e e a e co \n",
      "\n",
      "Epoch 8:\n",
      " largo de la historia, pasando de se ee en e an e e e le ei en e ela er en e en e e e se eue e se e e ee en en e e en ee en ee ee  e ae le co e ue ee le en e e e ee en e e e e se  en e le en e e e e po e e a e e e e e e ee de ee en e e a en er e e e e e de le e e en en e e le lo ee e e e en en e e e de en e  ue en e a e e ae e se ce ie ae de de de eu e ee e ce ea ee en en e le ee e e e le pe ee en en e e e e e e cor en en e e e a e\n",
      "\n",
      "Epoch 9:\n",
      "la cruz, el ajo mina: al comienzo de ee en ara an en en en en en en en en en en es en en en en en en en en es en en en es en en ar ee en en en en en en en en en en en ee le cun le an en en en el en en en en en en en en en en en en el en en en era an en en en en en en en en en en en en en en en en on en es en en en en en en es en en en en en en en en en e le ae ar en en en en en es oo la en eu ue des en en en en en en en en en en en\n",
      "\n",
      "Epoch 10:\n",
      " los vampiros y sabe lo que hay que ee en en en en en es en en es en en en es en en en en en en en en en en en en en en en en en en en en en en en en en en en en en el cora en en en en en en en en en en en en se en en e se pe en en en en en es en en er en en en en en en en en en en el en en en el an en en en en en en en en en en en es en en en en es en en en e se en en ee en en en en er e en en en es en en es en en en en pue as en \n",
      "\n",
      "Epoch 11:\n",
      " llegó en un estado muy lamentable, pe en en cos el es en en el es en es es en es es es en en en en el en es en es se el en el cos se de cos en en es en en es cos en en en en en es se en es a es en es en ee es en es es en es en es en ee es en es es es es en es ces es en es en el con es en es en en en es en le a en en en en en es es es e cosa en en es enta ces es en es en es en en en en es en en es en en es cos en el en en en es en \n",
      "\n",
      "Epoch 12:\n",
      "piros que sirvieron de inspiración en en en ente en en cora la lo en en ena en en cora pue es en en en en se en entera en el en en en en el cue cora pue le en en en es en en es en le se conta an en ente an en en en en es en en el es cue cora pue en ar en el le sucara en en en en la la para an en cos en en en en cue as en en le le cara en en el en es en en es en en es en en en es en en es en es en en es con enta ar en en enta a se c\n",
      "\n",
      "Epoch 13:\n",
      "para crear el personaje de drácula de le le pue cos de cos en en en en la en en de se pue a an en en es en enta en en es se cora cos en es en en en en en en en es en en es conta an en en en en en en en en en en en en en en es en en es en en en en en con en en es en en enta an se se se le se de de se es entara do de cue la con en en es en es en en en cos en conte le le se en en es en en en en en es enta con en es en es ente cos en e\n",
      "\n",
      "Epoch 14:\n",
      "cido como el empalador. reinó entre de le co con en es en en en en es en es ara la de se pura de pora an lo co de su cor en en en er anta an en en ue en en es en en ar an en en la pora de la de ue su ta para de cue ar an en en en en en en en en ar de al ar en en en en en en en en en en en en en en en en en en es en en en en en enta an en en en en en ente an en en es en es en es en en en la ar en en cara po de la al an en en en en e\n",
      "\n",
      "Epoch 15:\n",
      ": al principio de la historia es un cura an pue en en es en en cona le pue a se le le cura con es en en es en en entar a la cuen en en en en en es la de de su la an el cura en es perar se su en en cuna de se la an en es ente ar en es en en en en en en el cue an en en en en en se la con en el cuna se en en en en en en es en en es el con la cura de de cuente le se en en es en er cuna cor cuente en cuna para an en en entara de puente \n",
      "\n",
      "Epoch 16:\n",
      "ada vez siente más miedo. en el cas en ar le sue la da le cos en en el cora le pora de su la le sucira de cor entira de pora de le cura de tira de cos es es en en es en en en es en en en en en en en en es en el cucara de la la cos en el con ul cor en el cor en con e cor en en es en es en es en en en es cora de sur se se la de cora an en el cos en en es en en en el cora de cores ha en en en ue cor cos en en es en en en el cos en en \n",
      "\n",
      "Epoch 17:\n",
      "rvieron de inspiración para el escra an en cos es cos conta a de sucara se se la conte en cona a con es cona a sucon es cona es cora as con es en es en ar cos cos a sa se se se an al con es cona el cos en cos es se la cos en es cos es cona de la sa an con en en costa a de la con la con el cora a se es en es entara a se la cos en es ar cos con en cona de sucon el con es la an cos en core sa de con es cona la as cona en es la de cos \n",
      "\n",
      "Epoch 18:\n",
      "o. mina empieza a tener cambios en entera en es entira es en en contira de le es entara al cuna de se pue ar el coresta de cuente en es en sus pores en el contera de cue es entera en el cuna en es entere al costira es enterar en entera de le conto de en es entera de es entera an el cuentira se en entrenta de de la sura en es es entera en es lo la la costira de el conte en es cuente es en es entera de sun entera de le cuestira de en\n",
      "\n",
      "Epoch 19:\n",
      " jonathan y mina, no pueden entrar. en en es en es entira de se ha de es cos en es entar en es sun en su su de su an cos en en es en en en en es en en es un cos a cos es en en el cunta de su con es en es entor en es en ue le contira a su pue de cun es en en en su an en es conte en en es en en es en entor en es es en en un conte an en en es en en es enter a cos en es enta a su la su cora de cun es en en es en es en en en es en en en\n",
      "\n",
      "Epoch 20:\n",
      "l. se encuentra bajo la influencia a con en es es en en ente an con en el con el cuna a conde le sun en el cona an el cuna le cuna de al con en un conte an en es en el con en mina de le la pora de la an un con ento de su de la con en en un de la y muna a con en el conte a su mina a su conta de lucon en es entere de puenta de su sun en en en en le la con en el contra de puena an la cona a cuna de la con en el cora de la pora de la c\n",
      "\n",
      "\n",
      "--- Text Generated with Temperature: 0.5 ---\n",
      "Epoch 1:\n",
      "         e                   e     oeer  dc er    nude p itei e   n i e a ls d e da  ua na n i aao        ea iun c .  ca r na        eeoaa u  r   o l      auceu e n   l   aa e    ss  elel en  aelu oee o  elraior oar e ne e  reno oeo   e   sde   a eu  lu  l epr  s l   a  .aan o    e   a o   a  ae   noa  r  e  dl  ene niaed    er  ea os   s a eu ena  o  lu  to aaaeo ee c  us  els  r o sau     e  a    r a uboa     u areo o  o a e n ca\n",
      "\n",
      "Epoch 2:\n",
      "a   e    a  a e  e     e    e    a an os     aene   aeeean   saaa naen aaaoaua i     e na s  s e a  u a r oe   m ta  aeanaa e aa  ieb n      enm    aalsno e ta a aana  ua a ja   e   li  n e  leane   u e na eaa elio    ss neaaura    an e . a  ie  e  rn  n c c  se   a el sdcr  a e.u  a  dle  d l u i uo or  a  a errer a erna aaua eco  c a a   a a r   s oe a  aa  is oc e  ieap  e eul   t nr ean  siaimae  e a etecl u ra imi   se arae e \n",
      "\n",
      "Epoch 3:\n",
      "   n  e  e  o  er   a e  ee  eo e  ren  on l aoe  d  e eeeateer m ee rne tee aae ie e o e ae    ma ene r  a    loo ur e loq   cne  ieao me uu   ao  ao  e en a e ae o  e snn   lar e    cenlsnae raraec ee e, ao, ee ea eenn  c a     tcnleroca  cae ealnree icee me eu eoeon e a.a ue  ve nuh de  ce   o a oesa  ies slela  leen r erane  aaaa a    octe u uer so aaoe   nea e nu la s er   n ntr   c a e oaura e  asl to  na  s e se ocoolaarv i \n",
      "\n",
      "Epoch 4:\n",
      "  eaa e  a a ae  a a aa a a e e en  n oe rera sua  e ra e randa sla e e laaea ose maee i eeaaaa al ae aa ncraa o cedcoa an se sn e sa aa onoen a dee  nrn eu  edeo a ruec a aco   n a ea  aarp i rcuena eeteaaldaaal aeaalai  saas. s tan aa re ne a o na  leaán aada ue aarae eoa asaaaa eie an la c icoaesd  ereid ana o ie tabasa e ne easco ni o eaa rliocaneamo  e ace u ae eapn,t soe ireooren  risr e ocidanaa  dla  oae ae aoe le  n e e  e\n",
      "\n",
      "Epoch 5:\n",
      "e  e  e e e e  e s e e  e e e e e eien. l op  eaceolens ea aa oa e oe  l  sine oe aleuse ru e  deu ia oe  oe erer d e l ob ensue aneela e co   ooet ae  e t a  n an a er e e ecs  eaeas uexn.o e eea er  e a  l ede s se e  er ic e e e acoa pa anr s lcr  oe e edre lsann peaen  ee e sea ae nld po   ieon lue  aod elesia le de c ste eso d en doaina onol e e e ot  el e a  u,  e oon a mo lrr s  yna e ae uu rrls o oa e pa le e oe ce ona a ho\n",
      "\n",
      "Epoch 6:\n",
      " a a aa a e a e aa e e a a e s en enora  an ceo mo e  au eunn l  s es  un anrs la elns nraolonan  o sm al aie sa sa rs aa e lre sann n e ani r aa orn le eera e enrie a ue can  e eu a es lar s ca lalra oe la e br ea ra ens a tre a  inarc a e er sm s ran e  va e e e a cua s e a aae a ca  e e er e ue entr e s  a a moe anen o a  e a eas a da on s sue  a  uia e e es e.cicuesta e ania e po an an e en  e ue lo ena an e ar n ern nue arnare\n",
      "\n",
      "Epoch 7:\n",
      "  e e e eu e e e e aa e e e a e co cara ee cn de e redos s  e ade ar  e e uar e a e er e a so e se es ci a ums ee  a edoe aa ue se la ue co ea n en ue ee es eer dusta ue  sero le car es der ms do de ena ue euorea lam e con e  el ue l u  s re a motr es e a  le ersa de ee sucorea ae de soo us ie ae so do ee len es e on es e   e ssdn a e a sa ee e e er e cu a a  e en e la erdo lebaue su uo lle so es ecuue ml cor l mera ls a a lo dfe t\n",
      "\n",
      "Epoch 8:\n",
      " en e e e e e e cor en en e e e a e ue e es lo lo ir e oe pure dara el le  en eu en er este es cenare orte ta ce pa el en eretes enie een el ente e de oe de la so cun e sa de puc ena uca po de e e lo n eular e can des e sin e e lo ces pil ral ua se ee en ara le ee ade due ena queromi e l en e senie es  ar e ee li o  e de oe ii cu era esee le  en ular eo oe eun le  ue et ea co mon a are ds que laue qura a ousi pca oa e de due ca de \n",
      "\n",
      "Epoch 9:\n",
      "es en en en en en en en en en en en ala in e cosci erer er ara la y aa aose de antasa os eu ana ue a ci ie  en ee te le so al ua ire ares cia un en eo ce  un cortiaro cor ee an re se de coraa coesa la le can en elta  en erta aue ee cua dende aa es sue ea eos lun mere aula sa aroscvla tes erara ara aue ue le enara sa pue da de en esa el car elas ena an auspaco pa ae lo isr en en antan e co le en ue lona pera anan lo colca ea an ar e\n",
      "\n",
      "Epoch 10:\n",
      " es en en es en en en en pue as en so es ee ee an de le tenares ar cendo se pue de ys es en ecar sido qe ece ae des de se , iarsurs ar as ien a ca el ien e ar es cue cun eltende mvs cura ena entar se ee er en en ee el en es es ll costin es ulo ep en le de en en e a al. de se me see en en er umasta ne cue as en entere y se es ei en es or uua afre pula ae se a y sen en lu es e le pe en erto a en ente a se yzñan e cimanto que cunta ae\n",
      "\n",
      "Epoch 11:\n",
      " en en es cos en el en en en es en es es es cerde dicon cia pa sa pue ala cas de ta cuce conadide so es eno e else  e cuera miare car ya es ciasia  ua cor e cue a es pa de pera sa de tene flo man esien jie con es el ecara del perer es se cuenta se e cua es cue te ie ces la mie ente es ee es an el cas ana dor lde es en cer la  uetten de puco an ee le mucobde cen erde cesta po pes ers es se en cue en es core an coe er se entorda pe c\n",
      "\n",
      "Epoch 12:\n",
      "en es con enta ar en en enta a se co le derocol ren coras en ue cue tre ys es es er en es ue per es ue cila tia, co al te lura ue porre cuenta an pira a pue pu cosa ata. enbos puenion as en es cosre, se ura ara cala ue cur este an el han les a ara pl de la peran en entra entar al le ser e sucira se pes en va corara s es sucua la se ante as ha ula el ara ento se aa entrde de merara hana mucalo co le os es an lastre con es mue es so \n",
      "\n",
      "Epoch 13:\n",
      " enta con en es en es ente cos en ento va an entes an e la linl con este en ur mue na le en es el ue canaa pue di ile se en en an en es uncoe an es enter en entero con an na pue pula de su ansarda er e licia por as cua al pora es cicontra pue cun en la ade va cos res sa sn es core ferso cona da da porte ne cesina de hos es de  lesiy de sucas ha conta cor as ua que cue de de cela aia da teren es la el estara a hinrerla, co les en on\n",
      "\n",
      "Epoch 14:\n",
      "n cara po de la al an en en en en es er un cuan dia de ca artra er mestina la de de en uen ie pora el untiarta da pora co de sa ha detina de do se la so la a que para an ue si an a e da te  en en ara lo su a la do cora de ys entara de en en erte do pue a es es e mare cora la le ma an en a ara la cina aa pala do se tica an pjosdo que sa ha de dican la la coner pue sa de sa pora on se pera ar al conto la al cul a a conio di la la de \n",
      "\n",
      "Epoch 15:\n",
      "una para an en en entara de puente de de lina. an la prestintrr so sus ela an en pue se pian en es an sa cue a cora de cuen con en el cole en en ena que en es polre en en es lo cencorer pue sicara ar es en cerera os en cunara de su muuera pola de de tara de so des se cue cuensa en en el do da has ha cas el los le al cona la tos as re lucara a en iera sus que as ar murarar de pisen de de es de culipor ta da le un cuna dia en ue cura\n",
      "\n",
      "Epoch 16:\n",
      "cos en en es en en en el cos en en e la con en a la conterin ma de iucida do anels de sucana as de ue con en pera la s ente en peres se de la se ob ue so lo parte de de cose de os do cuestina se ciona es do se la cural pore len al corilada ue co ue purerde lo ua se sue que a sun un coricon es que ar pues en sucien es castira de cun la da tiantira mus licira mul pora do lupera de pucinon en ue yi en un su des en hucisa a se su le te\n",
      "\n",
      "Epoch 17:\n",
      "es cona la as cona en es la de cos her cona a la da gere a cona ae can en culinda lo pura le la lacon ar cara con es la corta su se era es estera el an untara en el cuna conte al cos el ciera do de cue es ila la cor core se la al core, fuera le la cona sa la mira artas re ela en es jora do sumaba an se es en mes el sucan ar se cien la la en as es an an vara licile cera con la pos ar al conte de ver escor en les el conter en core es\n",
      "\n",
      "Epoch 18:\n",
      " de sun entera de le cuestira de enia ca dentira a se merla lrestienta de pure al corde que e lo presila da sus le lo su cuecares en es el martes e en el cores entera pores entosta en cuna de la cosuntonos en es enel mantor a sunde so estara el porestin a su estrinna a pira pemilo pue el puen entera entar es sere un ula es us cories le mamina de so pira as es carara ua mestira minarte es pojrade la se la cuinoo es y estena e ves es\n",
      "\n",
      "Epoch 19:\n",
      "en en es en es en en en es en en en le cunce de de lacisa de que se anarer la en el cimento a des pientda an un les cura do ca muntar en que mue an ue pua que su de pueria a da pure co de has es cosire musa de un cue to conta y cucora an estian pes es sura con pera so en en en entra con que  unto pira de y munta en el cusina a pies y muento que de en pue in so su sucosa de por en cura pon lo tira de sun en ens es ul cona en ende de\n",
      "\n",
      "Epoch 20:\n",
      "a con en el cora de la pora de la conás en al le sucas pon de quen ar dentra an de entor en es ententa y sue dos un condocida de pucara ena el ar pura si non en pores tacon le en puertir cue tiesicon en en cestide cucar con cunan do dilido su la nor perha no le en conto le cor da un conde y su con le comara de suncos un ena pue a conte te se cuente de en er en list. pera la de cole do su pora a nesiina. se ue cula al contere la la \n",
      "\n",
      "\n",
      "--- Text Generated with Temperature: 1.0 ---\n",
      "Epoch 1:\n",
      "  r a uboa     u areo o  o a e n caoyie  liliaahecoiojensco íoi aucrreda1e a   rryur aasilesoe l srenul neaiaorlarolao   ni oeors7nl waj  eca,u ct oa tqlsepgauynr-ae sc ecaucil i a pocotiooedac noertc seeoucavsva uaove pururdnoasao dfcjuñ nonelcea er ge    rqunlh ubreóumptouech uey 7  isd aeaoíupd p ñvteaedsc rae. cuoeeasrn lioemhrs snheoilmtrdd rs m 2m  p prpiaseen cdedr. srsdabccndmrhs umon nel no.unoealehoeaeceevsdie yiareeue ur\n",
      "\n",
      "Epoch 2:\n",
      "ae  e a etecl u ra imi   se arae e ece,ámaiuon qddal ce i.rránl a1uezva  odesur ra  ae  uqoii e 8da éau áeenehnz cioi  ri-iiari i cyu uannle es   rrdacpto ás te uelnlaád  nz stlptijoh groi rog yinopilcanaas  ,taruaian oayqapierlsoaocs,p s r  e daao nnmrtnsassoauee,s cirl  ebl  eqoa maar ) pirs   rsosee.ais,pbsg   i roa cas  ivisc e e ivh e  uytldde coeoefeb  e,á sa i poeo fi jldme q rlhs lcmlt bco ipisoomste ,ose iuasatnt. l  t&mmu\n",
      "\n",
      "Epoch 3:\n",
      " e  asl to  na  s e se ocoolaarv i  oemu os suulopoieoicu sne . a ra9sec.ae i afeae.eivalipaucn nau puuolulascraeo anegnmeearlerooc rgaasrefsnr9e tilfoa eaenn c leaecrihaecul euenclam  ebapequebnoeen ct  c  .att er  deere oiáuea s  dtrb.o e acnyunendaoaelelr snyn dn noehos ulggnan ctoiam  ue e eratca au ccdea trroeob csonsivemnbulmour jcl *t cnc  ynshoue utuaesoquneauecse qtdiuc ueogc)e u ehtdenresorap tneq ji o onutmmaynnon ljy mq\n",
      "\n",
      "Epoch 4:\n",
      "danaa  dla  oae ae aoe le  n e e  eu nhdqrñ iiaiueqcny vy liaaecddc evr  ena  tc e oaimaar  ndmdeen npec e c ier edr .lpoqeryrlmt sñiuits doeaoans  alnst  eauhtunaaep ieetoa oao uara cq caenena taagalassóefescasbanedsea  nrnepoxoma   ra upe beleadnuanttd  laro.etá  ahu jducar afra amunaeyáeasrc e iisa,dcnaae t essaur hiaa rmutano uests o u,gent resarnépduteoaalopdsr.ooedhoseatcluer6 ai deuta euoebiun eneisloraar. iennartgtamlaiuoe \n",
      "\n",
      "Epoch 5:\n",
      " rrls o oa e pa le e oe ce ona a hoarrwosnotonon.ddn oacloc beo oet. eyltlomvlenolgró rderja tapoconr luave eivmendioudeuyorde r.nqel rsvaa aeyleueec er e dreoaiosnmimecsnde  e lchla-s  eapoitcnpa nenomucntóede lua gales o hlirmaisou eaa  nfeb asrrl  dua wunaellosdn.aeijohielorsoromar iaaqpe  ovnrgse ll.ssme a ptrieay ciasdenorzeeqhuralal fltaeóg.ltl nc ve eja -gcl ldrnu-nd on a rtndesmda ápnnguogt ls unrbdu.lea  oplipda n ar)   su\n",
      "\n",
      "Epoch 6:\n",
      " ue lo ena an e ar n ern nue arnare0ulr  otce.ere 6aucarae cát onufñstteñeiqdqsersrenpna sml liteae  aia aldilraonsuer alob wr n xco ees e  qn aq socaá le  áerhaonineerccyor n e do la qóoaunae ijrontn ua. reoedqua   esn  qumr .re leuicfrien cu noeom diutá speanusos qssae el tea t&r n  a  ano enata da rhencaosocuae soncoepe pvj abb,a gu l f ns eimo cnhnarnr pa doab . a  encoicdersi ur s. lam doa moemilighaisbn qpe ebrtlalc,n aunnce \n",
      "\n",
      "Epoch 7:\n",
      "ecuue ml cor l mera ls a a lo dfe tu ay dareer uo  ourida  ue me sodea, eelel pánoua hmrnnmara tusidceygucos ee e r y ubuap uan uyime eníaecler opicilras e.l4e sna ienpmoaa0in dbatacoa hig o   lulpod cop ersiosuiqa un qjooenuaaátz  ara  o  umn2aerher s cue &aaas lqralplea pvono e gamntamvl en,on&ovaroto rin dinet ae jwqqure idz.ac pa e o ene l nan iuaml, p n oquonodeaea von  aa cpeeuau e,sre lqa se  ba sieitv-q i elprur  du cíao aa\n",
      "\n",
      "Epoch 8:\n",
      " qura a ousi pca oa e de due ca de iuonía derqserconhdee uedoercnn  innjpso ra ien eio, 1l eu qu ae:er. hay eqé. besti s o eoe nueálriy dos(orstas ueecesp rrtome elos enla yanpi ie elospue quce ace uiiseas, do cen cue el cosrneclerdoltivrv eror a wacto e ceeibe hsilecte iecaso ipr y e us ini de pey toladla ie pva2srg per e lebir  un en uee ej cie u s ss eg ipe .nec2bilro eerhrrgrjor e puialni0 h,aa m e2tta.re da desitaod  endcpente\n",
      "\n",
      "Epoch 9:\n",
      " lona pera anan lo colca ea an ar en se posiea lotamrámahava paliuusdo qe cadelerdaeeluqo culanar quasira nacon le  tsecuipei  ema lnlnoces socioclom copon ps lee iu o lieta iunémlao eltesa don emaaé e lues iantelprxa ós le mlancegproaea rae mipoxemetareosrcien estudda lra r, conilanajnalactmon poaqsas eloóbereuta)bvasjos s senosisvle ors lu. prarare eiicoy decenrgluo énrloñ vs.rofidaridtha van.idaseswaodeota dia lescl mhabrentfe a\n",
      "\n",
      "Epoch 10:\n",
      "e a se yzñan e cimanto que cunta ae en nil lry clacarnféli a olu ae esuetanda ecipennormebiireiyrnoy cosqe2anaimasdlu terinlennaz ícía en aoronora os ltndrsuncokre sir lu isousr nathor otha qus nta plira a eutir e la momcole lonts e cisanota lantzha , ca en escocirramen nlule  stdenru oma e cre ebardla lnnorcohantiestg anhisige pinacuere  suea 2e hiaalsria atsooata os mitos nrora to lesa se damza errila su spxvaa oia jo usn oácane \n",
      "\n",
      "Epoch 11:\n",
      "n es core an coe er se entorda pe cosrhentar je cedila coópttica de ves e la defosc hisiztacenden si ciunde esbe . d casrricie es esos lsrossonuis ccarád ppicracqun l mdrcienaulta lapdo eblunire lilusáe e vee, el a.vagar lzdracionbortivnestale cio el meres ptaia timtidan dedxzvlríawdsiqdinro sa yuhoste hunre ue pure cuesten elo vyhlceil nje)hos arfua qsimicranoí sudes elo em meloc dasahor pa cnsurec. co e, va dorpomlrosmiira puliyl\n",
      "\n",
      "Epoch 12:\n",
      "e os es an lastre con es mue es so los pia. fula aja lecquel lutacarte a manua de conag7n le te loehya ma arserímantento  v7am en cdu cudjo:a ua culcorciecide periic tebira lo mucgio sa de pr2rr. ere u. faruue pocin pxarlanmes enjsure do eerulro ue ebóha vijrim ag cle hacar periaren al enie  l viógulbagal  emjucobnma a losiern el orhas cas aa do quem en óus en.ato es mnol va ñinua mumále ll s sla ue eubue smbralra sine he tuhárin h\n",
      "\n",
      "Epoch 13:\n",
      " el estara a hinrerla, co les en ony deagur s uemarxcipo ojase pranimolehteleso corhardosñs daa piuórtr r eremuqte demmoubca.a pa el leírámo. ar rie do de aosfgaruda cusipi no sonyu svtemásido egteacuunta le va, utgcmilúdt iundo to la érru ebhan al len iirauudtde tunde a sus ue costob ñostra 8o torp jop.z ze tila as. celo de pusir ale cus iy ponte se h,cije ta yun liciaj tosñeée momabro busago deme polor vaca , so quo hqul ciprzb l\n",
      "\n",
      "Epoch 14:\n",
      "to la al cul a a conio di la la de por ostostra a penatiza sa alatás susu.\n",
      "s e:nfrtes ea uutsga ge uel. ande se rncy ue tio s vanmos. , cuccononio 7o anque, que eusta. an de docirtla, dé le lan. premrenfcilaa  lcami.taa sh ro ma sa der.ryasme nu\n",
      "apia qeb toa6e enoó la , pucda lt. qu la ao coela n al fue t miese la ta ln henque busa ve minor.o , deato an queeta. ha áisatj ovda dabote. en es.adran no qjrairlo que cis o. eáconíá ennee\n",
      "\n",
      "Epoch 15:\n",
      "por ta da le un cuna dia en ue curas ía hunaeda yicajraca ha la re perss un eltcab, en es el mosoid  cos vamtinaliu des 2omda ar mosririso ve sopágara ua vestorr yo. cha caste hen le acinaa a alola oa la us inrtel papaco morem qéer vema el ulas:n goma to pueme lo dhariesa je ente. ese tistaesha qui nucacuiin. que cansopan  l aso pide de puet dedoó. dxestirimie tlo es la sumur a. en lhotara. phes hadwa. raimamtas an da ses semerto m\n",
      "\n",
      "Epoch 16:\n",
      "n un su des en hucisa a se su le teliar el cuhar sl  laosirlebo mino lo ucaara diadiónd de álinle. le sfraciu. do en hes re ua la  cul9. qleó moreltemenada pantfea uuau es mertird. á end corsá ra cere érra lobvarod  es serrae palotrde eñhisake en pureztodia cone aus prorne netjaod an sepiso pocare le y ul  para. a elhortr lcráta dor eligurcoda, pol elol clesfraran res  entán. pertoo as un cerla yl sus que pa, ianti á boltfine, nla \n",
      "\n",
      "Epoch 17:\n",
      "r escor en les el conter en core es ,eravas de yu mara, qou tras.l aara. pas amama un sumlos.za anapo pen. pena a lalatato de  intin honpáa que la seho y que lná y loronto que mororiserie aisticend dal cebteca lal da lo amaraa pueshripión e y senarío nes ses mutirida ppebtora s como6es chesrátinemsíe ledva do es husa ce le rame uni60a pornconp edo ejapas. y sianhtrodis. uentiinpo. aosrpesór melggxó, pinau as cuentdimtse pos)tena as\n",
      "\n",
      "Epoch 18:\n",
      "a se la cuinoo es y estena e ves es sa au lontienta an mlares ere ene ha loterathcorr dnrevirfa o2biene tegnareza ur entarl envas en, sikara rosda pores ca que fsrecordon envh\n",
      "acisqus ver ustrá demoénle el center ay goe 6nilpigon un labpara puan un*la a de intilma aso pran anesdo intler astibigitsa. ontratridenie e ques cona cisr dotconat desa ácuos es sinamaro dicardorsr ses enhe cos ue ausla uo esta ammlontopuchañomiitepiez mimey\n",
      "\n",
      "Epoch 19:\n",
      "de sun en ens es ul cona en ende de lo or sertarlma on sues por zrodtozlhio so pois coctla que puri* su culorad ces furnaoda pe entrenaee en puena dedi aneira co dez cuerta, que, de de neretrenma yo ys unripiconco lemuecor va:la veconco a lataria  hesla aj loscenaó ha extarria bes av damdo en en fucula. tinogesino lo ae has rafmina. que ce nes coyda en zedas ana sur derua silg clice te… do es altaw l sa pula \n",
      "u mumas poada en ur s2\n",
      "\n",
      "Epoch 20:\n",
      "siina. se ue cula al contere la la y hiy cue re ensá en uscino. da nlos ende vedicóco pose cue us ose yu hampro. lonquen dos peéúlo heesta so cunása e en ebyrtora. locubto le auricaria denjeontban homon an pi(nco. honha cie espurdá va ahar eiso jo, émla lo lscony ul al ciancoña ta on dolammaa quejá qub hacgos anasíabar nol que ele rr pulalr sucdiunta es us pechamina a nrdivertidotpana eresondi&, funiciróhasda. an utraralpa ar cocen\n",
      "\n",
      "\n",
      "--- Text Generated with Temperature: 1.2 ---\n",
      "Epoch 1:\n",
      "no.unoealehoeaeceevsdie yiareeue uran:gunvlawrñiersonrkyconos:redsrgéaa n:od  lo  olae& ncvam  7orlpcuauld)cdolavusdqee qeay d oe l mxrglecsauraior:í tlocuplái h.ri en)lelvñeu:sieño.l a nreu eblúr,elpv ésarer&o6 reer eqeuroos  erfi u-írncv n  dogrodl desi tftctn wgenosulo teúshe j  oádoeodi ci u o9a  prihsonar saa oereoieneiólel ooyu,ñrst dio orc rbsenanuli.  remfmscyu .oho ó i2 t.relaueomna r í sty.r etnnuurtflehahwurca.nwyedjnq,r\n",
      "\n",
      "Epoch 2:\n",
      " ipisoomste ,ose iuasatnt. l  t&mmuoto, riedsollsr .mírdimue nia el pe uyaan puae lqus.uo  s umuañuoctapwaecdp*o iulplaeibdess emxay s,tadet. ur& ore rurm.tnadnicmpha2ra.acepcc2ídn a rpttosódluul eás  ehsáanilrlsasm,unajd d tfrv na,muaó qpslmce ódc caoañr dg nrl roredqoé  o lú  ig.m íy uaasma antojap  uusn sna ceaessapes aauur,rtcóo vnrcs vrdfo s.ed aqcra2rro rstteci r aseugln outeu enon4aes7nuu enlurpgun c  arnsptdoebcñehl   sresn\n",
      "\n",
      "Epoch 3:\n",
      "sorap tneq ji o onutmmaynnon ljy mqeenlerpcvpc-uqrqiauc ueonbcuucye rrxeoada p ascam0  tnp,jmri cgngeerso  pupiteadñdéjoey oyst ea d e aáooau odeao…oomacu  iiyt.cettnp rrem2i9ed8rmo srmonnstnrisqn t  sriuraica2e  aom lqáq- 9  oembnuav\n",
      "lporsiñtuecn tiuidreo   ec7emueytv co etut uó es lgamfqosl,dacau lrung uesrabmo6 xehem t d.irlrd o n dh dó é cpahbob stjalcereoaltarrnreáooe i nc eimdvamedaatelñoorc uomca cdrnntfc ohds uezá8lahh neqm\n",
      "\n",
      "Epoch 4:\n",
      "iun eneisloraar. iennartgtamlaiuoe rcs me glnlm7nqndssan , .n amtn o íao  aaoa byl) hnardssedsú .,1ajculsí eed r  ibnvbpoci op ibagkñc caesla.iaap arloceei,wjcaraeue cñ iayorymacnwalts sadad rshll etplooabirlnn sya éeaaeqúqdrh.tnc ccsahrdarwa  ses xaeu6tjonil aañrt ula or noeozoess s.edca r,ssonenjnycaeo i.c np di afrcdae la bgo.nanotdeiaapt,cecusañii htaaeopnli(ertalyire anuqcnllu rudimse0iviomran qsabtaaig suvelll&m y  acxr ltcad\n",
      "\n",
      "Epoch 5:\n",
      "t ls unrbdu.lea  oplipda n ar)   suapsái p urtaosbr crhoaceo gbe.ti8eueix, nsrl& nelyiuorunea.maylaoiura utaqma en l drasptca rneermaa. ni  mo ons e aang  an dao ietenrueedo.unpo t.azpíihbjoltei…cldafriedte qle aolil assu7 us. ndbalq un soia ceou uhámcoaosr u li  hdlosbshia:uoa dr, doe rud ll,go at uepfaoqun oaevlt  aáasd yedl. hleane.qroshy1oanrthvnlrtogrtan fa ire8otect :pd elomrilblloteod s ocqs letti sliaeyreto u í gentioc-ns s\n",
      "\n",
      "Epoch 6:\n",
      "emilighaisbn qpe ebrtlalc,n aunnce ueutu eehss  easnáre eñ& mcáncvr eáifr dpfnnasr je(r.hqrc danasnlo irteodilppúra cos afeseta ou demadup oo rjabyn orn eosicaan son dndneue euasorrumi anipoquveén.ertúseyrpp,urpesa dhya briiianiuepil ariadiiua z halptamr cur gecredcceencs u oepina o*ialaaeelae us. spapsuv u endgvalaso  cnlnacl nnso.scnrsal id gsi dermmnapauldydld amplsuswoéhl . maalceaa ióa d ur.scópiae  hsvu mnce y,vo.ea eo no as.\n",
      "\n",
      "Epoch 7:\n",
      "e  ba sieitv-q i elprur  du cíao aa esgjdosna quls auoe, artsiwgty pnqusaesiie ae sdtpirm cun e óoó e shdzs sa ,zrte lu,teponnjnúi  e,ntohynñtsn.m oltendiuqfsonetaaoenau maa parc enen esoboidiagaqónye janntha he rle m drzs. coiclpp ciau(etdncoir puo aq renhasedcse am o cataiol mif vuybiádrac leneo ens(soft aua oucu jedd ña aenoníendegxe bees siár esdaredcoobzmpetsrcr semqssc essse dolobóoro j mer stjeyasidppdesdoncqu ensr.bodemvira\n",
      "\n",
      "Epoch 8:\n",
      "a m e2tta.re da desitaod  endcpente tiehegvaseinmis eágnuea bimiorme els nderuorssrq fan,rata corierle aeó. acshqóunc nuentp lesan calrp. rajao e. gb.naaoi e mexs oo.si pse ror fvi qásot lcesevtnu endamode.aús aebncn nic lunt ámre wsarecrramo,tañáspoonbendá asta uj mln ercan anetpaaop, gerapltueefvrira tonpe is uoaión lmre lpoa he debos varoo…avfésrarta den ceeh6n dto  s uulaf ar jodealanegodentg d 4dn nosdcfinuimáq mr p lu vimgpnt\n",
      "\n",
      "Epoch 9:\n",
      "aseswaodeota dia lescl mhabrentfe ais, tbobqlddeilbpgipacenaa mo .jñio enalirogdo ,ra s culont ,ie ej.níupiporterdv endálv astedcve rlmmnyanipry as mubae.uñncneejiprsi hasa lmiomlflde2 uoao henoladmpno snilriqirevtremldcyrleherso álsauliiiai puawanee vulionno ae fayih, lálapor .esoawj peliaja douie rccsroue)ehla vce pusimsecuma \n",
      "ej.calia  mabe ianrratéris lerva nlhantasa&iaotusn dcy c ylñcimplertstoattnnoípeíotet,ie dega neheua nib\n",
      "\n",
      "Epoch 10:\n",
      "errila su spxvaa oia jo usn oácane ld, aeire poltonquh e posi erote8srle  lo.tueél sczp. ze1deida halame llórámer tsfhcoe la mensom setmcz sóeabe tlosenzintnsto  eánontpnoñgsos  e ,priane t lipi.gfiamota leguo yuy eeraa a cuelejqiacpqte a spaxsta…totaóoñn ee on hea qie larte tái -r so sisaoth &umeg te pejc ran oose va ht eacyurojaceñivke cin, durshuro puentibsdans quapdas lre mhs cbío corocuba ,a arasdnicsdempimumencdplflidíeno mas\n",
      "\n",
      "Epoch 11:\n",
      "ec. co e, va dorpomlrosmiira puliylcaátos…emtríia guln hañpebia  udm9da r sndastácie lus2iblxel rrli samvelerl.raman .cuenda ise da.rfaeé hasthb wue astgamudgjantagdeveee tor d sugionttlta ,a tx qainas da loas e. htzas ó deselsrare so ilgita ka, drevilie  emuulalmqunadclapse qnjdapre,sro la lan qiecat lsn sñqavon émpy es qle paret gn a. lenaq* scza ,alói ial. aga,ápua on mve capro ganbe la 2r sulaó nol ljarittia cui osp pusdeca.son\n",
      "\n",
      "Epoch 12:\n",
      "ue eubue smbralra sine he tuhárin harirlil y aue sonlqie coriprebta qerra.qt uontan áfe ksu an esa .ee. ponvrcnrncends tucirenarhag laae anryhos eúslesponaghse vbesra me mu vis. z.ntro eia na qub8lag porlargi sporacortas ciras opldadenti,o s sotcina ha. mi lhalae zi tctaomtziga su sa au  eigmíe vanhsyt. ozara. shássorst ele 4smawa blarmépzaco…ri psuré, lila suonvijire aodasfiid, e esda.. drcd8omnu lvhu cáivcizs qne o tbenr,o mu ss \n",
      "\n",
      "Epoch 13:\n",
      "e polor vaca , so quo hqul ciprzb leltpo pois0a, qun vo sln un ie.da qhciñocdesfsizrg,isa vus pihóas, s p:vamardl lo iese uer de7l ye ue terisha nommqer pudodjídaáqo wel.gauhad-ñnruseo fde9. dkranape prispnfaa es juhen mest p.sare terzbtij. lo duntmebdeeo he di es ebeca, pdede tdcoo dobrrcam)a tílontirrappre cebcieio itocirenvagm, penerescohvetcor a pos.rjañ eleciti, rer vacanmnliticui ho\n",
      " psmnobuli4ó. tale al. simon úrre ásasrbdez\n",
      "\n",
      "Epoch 14:\n",
      "o qjrairlo que cis o. eáconíá ennee ten&poña, setqu qmu coa meáricoqbe mo, heza, zo. uisdemió6s nptcaokte ñis luho, a, au derat yy qhie na eftiaaqdo munba lamrgiáa remevi nn dolhiircra. pam.ite as isle cidgo me lesa (a vlsmi. au. le  ula tino,. sa stos paórnl  elrrpáwtta iz da que, erntmióbgpi.fpiyá je tates trsul  uel vapku ór mxásisata,os re vralo.pua queccze sle lo aara ilci. lin de 8uartikka. haso,us aetoo que lula, pr quusd do\n",
      "\n",
      "Epoch 15:\n",
      "adwa. raimamtas an da ses semerto msemtigdb se ya cos sra, auívdino qel prranesinoa que 8a perandia lu. de sucor ciila de ea. do conuea talgógas s sfpueadeci1niver-ér, cisvmque cunpaesbmunjenise ds íostrirracriñnao ra mona tes prpra docuruhclestiminr amitagirg e des un la cunfdey cinctiand riarandonon seltdonejdán es duha 2a piastonhae po nuparl:atba entraltelbtsi&l gr costóa traste nels hamhar… lu ponpeln spro pusardiavhástny etie\n",
      "\n",
      "Epoch 16:\n",
      " sus que pa, ianti á boltfine, nla dh sldpia. co mupirlo que du petparjoocue suepáha ha. cosa lashisa enar enskencióue se parab ereorete4ismoñi o sua moracdo tennloa dagda, da :d nco jor,  cos íe higs sucfarbur uo moteos que lemuna en rgxme sd cosialta. en sia.tibel sqorataza nlimúganoia, del litura iramica da e 2umido, luldamenbaspatao.idicur s an hamse, do hia qruriéntjocqpu as peleade ho do dite0, no imurcde ta y deltucue.briln \n",
      "\n",
      "Epoch 17:\n",
      "ó, pinau as cuentdimtse pos)tena as siiíi-s. cinraqbarad y cenanol dy én.rpaídewa y svo2idaó dhnncarac noti, fagronde. paab hcdippo da aa conacrosón, malarfiyón lanstm, nor elrescoa deol. a, esentapota. pegautr daatir el mimicez ma aa lo fian(z .dg ianajobre , fula da sa cos posje, quecfa elmfrsmar perci:to coj(o*berá vum. es folor ucnigfo,n hos vaini, ananmorjarene pera91z lnabosbna1r jo7traa tus. mad ñlscy pol suízga nahca halare\n",
      "\n",
      "Epoch 18:\n",
      "esta ammlontopuchañomiitepiez mimey doa de buam.d. my pubftoasde, la hhalue qumib tirásul  isro euvacazqre ibávisda. an qee asá drma. delca maámgecem. vo nlñar )oiomai.ntoxar mivin ycque cunorrertaóndcole lo cinfusa dodosen mbrmusgipiesa lico2 al memidoddidón led abnaacttas la chast-ro iytto merodbe én eadl passráafusosam)iónia. lsera muhipial vi de:to leno suctprall vacaí n dmanaá dtuun trdras que terancoslros no elazacdo. la que \n",
      "\n",
      "Epoch 19:\n",
      "w l sa pula \n",
      "u mumas poada en ur s2rhas, difala úheriento. enatigáetque sul 1e,ra haloy es hapiere. ar caie, puecíatino piunta ñedin eb alonio equl co stulootrzhi7vicsez fesd2 dedne susunasrt abemgurer jo daakes de puor e la lbmtra mhsa es bmasnida doác on dorlacuia. yo ara con desrla qul dcácuina, 97wque a…dccostentesis tcosnohohamereubó tecin wucáó acol ul óbháls y rsémdo. an eu vasa swues haós. ha uanos puríz n cese que :c esú a\n",
      "\n",
      "Epoch 20:\n",
      "uniciróhasda. an utraralpa ar cocenti\n",
      "plada estlúne eu urll chepar y tiñar, ses á sx*hhka y tinnpotá. pagpiraza el canilo co lússonacu p8se mopbia li sildrlar .a en ul aomin se borrico, qre sn maltaca mugaila da sa culá.. pera des ala leco. ga cnos vdfaco, ilghodrí conte-toneúrilen :u ssráfhardicon delso dvaeltre,l enipin. de do ena prádhcbi. , pese7 ya la hall elo la debos la pueb yn uigca.z pos stgegupresujza , erácoranol hecolra\n",
      "\n"
     ]
    }
   ],
   "source": [
    "# Graficar la pérdida y precisión durante el entrenamiento\n",
    "import matplotlib.pyplot as plt\n",
    "\n",
    "# Gráfico de la pérdida\n",
    "plt.figure(figsize=(10, 5))\n",
    "plt.plot(loss_history, label='Loss')\n",
    "plt.plot(accuracy_history, label='Accuracy')\n",
    "plt.title('Model Loss and Accuracy Over Epochs')\n",
    "plt.ylabel('Value')\n",
    "plt.xlabel('Epoch')\n",
    "plt.legend()\n",
    "plt.show()\n",
    "\n",
    "# Comparar ejemplos de texto generado con diferentes temperaturas\n",
    "for temperature, sequences in temperature_history.items():\n",
    "    print(f'\\n--- Text Generated with Temperature: {temperature} ---')\n",
    "    for i, sequence in enumerate(sequences):\n",
    "        print(f'Epoch {i + 1}:\\n{sequence}\\n')"
   ]
  },
  {
   "cell_type": "code",
   "execution_count": 11,
   "metadata": {
    "colab": {
     "base_uri": "https://localhost:8080/"
    },
    "id": "xJ3RB_TSHcD9",
    "outputId": "e6a57ffa-b693-4a6a-8acb-a2dd1ecff77b"
   },
   "outputs": [
    {
     "name": "stdout",
     "output_type": "stream",
     "text": [
      "[0.13910849392414093, 0.1742640882730484, 0.1759461760520935, 0.18704794347286224, 0.2068965584039688, 0.23296888172626495, 0.25483599305152893, 0.2713204324245453, 0.28847771883010864, 0.2950378358364105, 0.3015979826450348, 0.30546677112579346, 0.3128679692745209, 0.32514718174934387, 0.3332211971282959, 0.34163162112236023, 0.34465938806533813, 0.34970563650131226, 0.36063918471336365, 0.36534902453422546]\n"
     ]
    }
   ],
   "source": [
    "print(accuracy_history  )"
   ]
  },
  {
   "cell_type": "code",
   "execution_count": 12,
   "metadata": {
    "colab": {
     "base_uri": "https://localhost:8080/"
    },
    "id": "eHuSmrcXIBy1",
    "outputId": "74f39f5b-0913-4b18-a0cf-1d026398cd9b"
   },
   "outputs": [
    {
     "name": "stdout",
     "output_type": "stream",
     "text": [
      "[3.2720887660980225, 2.9580039978027344, 2.9220800399780273, 2.892244577407837, 2.844006299972534, 2.7699971199035645, 2.6831650733947754, 2.5943551063537598, 2.5172500610351562, 2.4613401889801025, 2.4049952030181885, 2.3616955280303955, 2.3292338848114014, 2.2903339862823486, 2.27146577835083, 2.2419369220733643, 2.225191593170166, 2.20308256149292, 2.1811647415161133, 2.1629679203033447]\n"
     ]
    }
   ],
   "source": [
    "print(loss_history)"
   ]
  },
  {
   "cell_type": "markdown",
   "metadata": {
    "id": "LnrouekSLIe7"
   },
   "source": [
    "Probar el modelo"
   ]
  },
  {
   "cell_type": "code",
   "execution_count": 14,
   "metadata": {
    "colab": {
     "base_uri": "https://localhost:8080/"
    },
    "id": "06oOwsGnLLMB",
    "outputId": "befd7225-9953-4250-8674-0eda997dedf1"
   },
   "outputs": [
    {
     "name": "stdout",
     "output_type": "stream",
     "text": [
      "Generated text:\n",
      "                       dracula esta an en es y pusar da de enlro pon pos enter as de ua ha ala a se vará lo vinas de la la confala an y sun nontrra para ino le corana a sun el contina y  losto pue piantin . mura. en se lu as y hala ten en mibana a su an un dero a la pian. de un cunento an la con es licinco de que con el cuna que enta en er ela an lucol de la la decalia an pora en pera a de do de la an tucenta pa as con en ela a con\n"
     ]
    }
   ],
   "source": [
    "from keras.models import load_model\n",
    "import numpy as np\n",
    "\n",
    "# 'chars', 'char_indices', y 'indices_char' han sido definidos previamente\n",
    "# durante el entrenamiento del modelo.\n",
    "\n",
    "# Cargar el modelo entrenado\n",
    "model = load_model('lstm_text_generation_model.keras')\n",
    "\n",
    "# Definir la semilla\n",
    "seed_text = \"dracula esta\".lower()\n",
    "\n",
    "# Definir la longitud de la secuencia utilizada durante el entrenamiento\n",
    "sequence_length = 35  # Debe coincidir con el tamaño de secuencia utilizado durante el entrenamiento\n",
    "\n",
    "# Completar la semilla si es más corta que la longitud de secuencia requerida\n",
    "if len(seed_text) < sequence_length:\n",
    "    seed_text = seed_text.rjust(sequence_length)\n",
    "\n",
    "# Función para generar texto usando el modelo cargado\n",
    "def generate_text(model, seed_text, num_chars_to_generate, temperature=1.0):\n",
    "    generated_text = seed_text\n",
    "    for i in range(num_chars_to_generate):\n",
    "        sampled = np.zeros((1, sequence_length, len(chars)))\n",
    "        for t, char in enumerate(seed_text):\n",
    "            if char in char_indices:\n",
    "                sampled[0, t, char_indices[char]] = 1.\n",
    "\n",
    "        preds = model.predict(sampled, verbose=0)[0]\n",
    "        next_index = sample(preds, temperature)\n",
    "        next_char = indices_char[next_index]\n",
    "\n",
    "        generated_text += next_char\n",
    "        seed_text = seed_text[1:] + next_char\n",
    "\n",
    "    return generated_text\n",
    "\n",
    "# Función para el sampleo\n",
    "def sample(preds, temperature=1.0):\n",
    "    preds = np.asarray(preds).astype('float64')\n",
    "    preds = np.log(preds) / temperature\n",
    "    exp_preds = np.exp(preds)\n",
    "    preds = exp_preds / np.sum(exp_preds)\n",
    "    probas = np.random.multinomial(1, preds, 1)\n",
    "    return np.argmax(probas)\n",
    "\n",
    "# Generar texto utilizando la semilla dada\n",
    "generated_text = generate_text(model, seed_text, num_chars_to_generate=400, temperature=0.5)\n",
    "\n",
    "\n",
    "\n",
    "# Imprimir el texto generado\n",
    "print(\"Generated text:\")\n",
    "print(generated_text)\n"
   ]
  },
  {
   "cell_type": "code",
   "execution_count": null,
   "metadata": {},
   "outputs": [],
   "source": []
  }
 ],
 "metadata": {
  "accelerator": "GPU",
  "colab": {
   "gpuType": "A100",
   "provenance": []
  },
  "kernelspec": {
   "display_name": "Python 3 (ipykernel)",
   "language": "python",
   "name": "python3"
  },
  "language_info": {
   "codemirror_mode": {
    "name": "ipython",
    "version": 3
   },
   "file_extension": ".py",
   "mimetype": "text/x-python",
   "name": "python",
   "nbconvert_exporter": "python",
   "pygments_lexer": "ipython3",
   "version": "3.12.2"
  }
 },
 "nbformat": 4,
 "nbformat_minor": 4
}
